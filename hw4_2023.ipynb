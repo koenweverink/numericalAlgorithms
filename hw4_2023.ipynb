{
 "cells": [
  {
   "cell_type": "markdown",
   "id": "d4c81d3e-6c35-4c9e-9721-dc27a3d00251",
   "metadata": {
    "nbgrader": {
     "grade": false,
     "grade_id": "cell-06d3e5bf55c941ae",
     "locked": true,
     "schema_version": 3,
     "solution": false,
     "task": false
    },
    "tags": []
   },
   "source": [
    "# Homework set 4"
   ]
  },
  {
   "cell_type": "markdown",
   "id": "64728360-8bed-4d1f-bb87-bf746ea66002",
   "metadata": {
    "nbgrader": {
     "grade": false,
     "grade_id": "cell-736ff6bc3e0d0696",
     "locked": true,
     "schema_version": 3,
     "solution": false,
     "task": false
    }
   },
   "source": [
    "Before you turn this problem in, make sure everything runs as expected (in the menubar, select Kernel → Restart Kernel and Run All Cells...).\n",
    "\n",
    "Please **submit this Jupyter notebook through Canvas** no later than **Mon Nov. 27, 9:00**. **Submit the notebook file with your answers (as .ipynb file) and a pdf printout. The pdf version can be used by the teachers to provide feedback. A pdf version can be made using the save and export option in the Jupyter Lab file menu.**\n",
    "\n",
    "Homework is in **groups of two**, and you are expected to hand in original work. Work that is copied from another group will not be accepted."
   ]
  },
  {
   "cell_type": "markdown",
   "id": "d8c33491-f6d6-45df-9857-8fae1d7d446c",
   "metadata": {
    "nbgrader": {
     "grade": false,
     "grade_id": "cell-b13bc5ed16bce8e0",
     "locked": true,
     "schema_version": 3,
     "solution": false,
     "task": false
    }
   },
   "source": [
    "# Exercise 0\n",
    "Write down the names + student ID of the people in your group."
   ]
  },
  {
   "cell_type": "markdown",
   "id": "9483e0d9-7aec-4521-90ac-761fb34ee023",
   "metadata": {
    "nbgrader": {
     "grade": true,
     "grade_id": "cell-fd464f55ba436b1c",
     "locked": false,
     "points": 0,
     "schema_version": 3,
     "solution": true,
     "task": false
    }
   },
   "source": [
    "YOUR ANSWER HERE"
   ]
  },
  {
   "cell_type": "markdown",
   "id": "40a6166f-8dc2-4eb0-b953-961fe8f7a2ce",
   "metadata": {},
   "source": [
    "# About imports\n",
    "Please import the needed packages by yourself."
   ]
  },
  {
   "cell_type": "markdown",
   "id": "a78e262c-f192-4fe5-853b-03248173a9be",
   "metadata": {},
   "source": [
    "# Sparse matrices\n",
    "A _sparse matrix_ or _sparse array_ is a matrix in which most of the elements are zero. There is no strict definition how many elements need to be zero for a matrix to be considered sparse. In many examples, the number of nonzeros per row or column is a small fraction, a few percent or less, of the total number of elements of the row or column. By contrast, if most of the elements are nonzero, then the matrix is considered _dense_. \n",
    "\n",
    "In the context of software for scientific computing, a sparse matrix typically refers to a storage format, in which elements which are known to be zero are not stored. In Python, the library `scipy.sparse` defines several sparse matrix classes, such as `scipy.sparse.csr_array`. To construct such an object, one passes for each nonzero element the value, and the row and column coordinates. In some cases, one can also just pass the nonzero (off-)diagonals, see `scipy.sparse.diags`.\n",
    "\n",
    "Functions for dense matrices do not always work with sparse matrices. For example for the product of a sparse matrix with a (dense) vector, there is the member function `scipy.sparse.csr_array.dot`, and for solving linear equations involving a sparse matrix, there is the function `scipy.sparse.linalg.spsolve`."
   ]
  },
  {
   "cell_type": "code",
   "execution_count": 461,
   "id": "a15365c2-c8be-49b7-b74f-e6ef30ffd26d",
   "metadata": {},
   "outputs": [],
   "source": [
    "# Import some basic packages\n",
    "import numpy as np\n",
    "import matplotlib.pyplot as plt\n",
    "import math"
   ]
  },
  {
   "cell_type": "code",
   "execution_count": 462,
   "id": "5af47d5f-d55a-4902-b99c-9ce793726c32",
   "metadata": {},
   "outputs": [
    {
     "name": "stdout",
     "output_type": "stream",
     "text": [
      "When printing a sparse matrix, it shows its nonzero entries:\n",
      "  (0, 0)\t4.0\n",
      "  (0, 2)\t9.0\n",
      "  (1, 1)\t7.0\n",
      "  (3, 3)\t5.0\n",
      "If you want to see its `dense` matrix form, you have to use `mat.toarray()`:\n",
      "[[4. 0. 9. 0.]\n",
      " [0. 7. 0. 0.]\n",
      " [0. 0. 0. 0.]\n",
      " [0. 0. 0. 5.]]\n",
      "For x=[1 2 3 4], Mx = [31. 14.  0. 20.]\n"
     ]
    }
   ],
   "source": [
    "from scipy.sparse import csr_array\n",
    "\n",
    "# This is how to create a sparse matrix from a given list of (row, column, value) tuples.\n",
    "row  = [0,   3,   1,   0]\n",
    "col  = [0,   3,   1,   2]\n",
    "data = [4.0, 5.0, 7.0, 9.0]\n",
    "M = csr_array((data, (row, col)), shape=(4, 4))\n",
    "\n",
    "print(\"When printing a sparse matrix, it shows its nonzero entries:\")\n",
    "print(M)\n",
    "\n",
    "print(\"If you want to see its `dense` matrix form, you have to use `mat.toarray()`:\")\n",
    "print(M.toarray())\n",
    "\n",
    "# This is how to perform matrix-vector products.\n",
    "x = np.array([1, 2, 3, 4])\n",
    "print(\"For x={}, Mx = {}\".format(x, M.dot(x)))"
   ]
  },
  {
   "cell_type": "code",
   "execution_count": 463,
   "id": "7f1c616d-9651-4da7-94fc-3e53f2362250",
   "metadata": {},
   "outputs": [
    {
     "name": "stdout",
     "output_type": "stream",
     "text": [
      "This matrix has values on its diagonal and on offdiagonals 1 and 2 rows ABOVE it.\n",
      "[[1. 1. 1. 0.]\n",
      " [0. 2. 2. 2.]\n",
      " [0. 0. 3. 3.]\n",
      " [0. 0. 0. 4.]]\n",
      "This matrix has values on its diagonal and on offdiagonals 1 and 2 rows BELOW it.\n",
      "[[1. 0. 0. 0.]\n",
      " [1. 2. 0. 0.]\n",
      " [1. 2. 3. 0.]\n",
      " [0. 2. 3. 4.]]\n",
      "If you want to visualize the matrix for yourself, use `plt.imshow`:\n"
     ]
    },
    {
     "data": {
      "image/png": "[encoded data removed]",
      "text/plain": [
       "<Figure size 640x480 with 2 Axes>"
      ]
     },
     "metadata": {},
     "output_type": "display_data"
    },
    {
     "name": "stdout",
     "output_type": "stream",
     "text": [
      "For b=[1 2 3 4], the solution x to Mx=b is [1.         0.5        0.33333333 0.5       ]\n",
      "And indeed, Mx - b = [0. 0. 0. 0.]\n"
     ]
    }
   ],
   "source": [
    "from scipy.sparse import diags, SparseEfficiencyWarning\n",
    "from scipy.sparse.linalg import spsolve\n",
    "import warnings\n",
    "warnings.simplefilter('ignore', SparseEfficiencyWarning)  # Suppress confusing warning\n",
    "\n",
    "# This is how to create a sparse matrix from a given list of subdiagonals.\n",
    "diagonals = [[1, 2, 3, 4], [1, 2, 3], [1, 2]]\n",
    "M = diags(diagonals, [0, 1, 2])\n",
    "print(\"This matrix has values on its diagonal and on offdiagonals 1 and 2 rows ABOVE it.\")\n",
    "print(M.toarray())\n",
    "\n",
    "M = diags(diagonals, [0, -1, -2])\n",
    "print(\"This matrix has values on its diagonal and on offdiagonals 1 and 2 rows BELOW it.\")\n",
    "print(M.toarray())\n",
    "\n",
    "print(\"If you want to visualize the matrix for yourself, use `plt.imshow`:\")\n",
    "plt.imshow(M.toarray())\n",
    "plt.colorbar()\n",
    "plt.show()\n",
    "\n",
    "# This is how to solve sparse systems.\n",
    "b = np.array([1, 2, 3, 4])\n",
    "x = spsolve(M, b)\n",
    "print(\"For b={}, the solution x to Mx=b is {}\".format(b, x))\n",
    "print(\"And indeed, Mx - b = {}\".format(M.dot(x) - b))"
   ]
  },
  {
   "cell_type": "markdown",
   "id": "972d8aca-b5f4-48a5-8a43-f3dccb0ea9ef",
   "metadata": {},
   "source": [
    "--------\n",
    "# Exercise 1\n",
    "Consider the following boundary value problem involving a nonlinear ordinary differential equation:\n",
    "\n",
    "$$ \\tag{1} y''(x) + \\exp(y(x)) = 0, \\quad 0 < x < 1, \\quad y(0) = y(1) = 0.$$\n",
    "\n",
    "The purpose of this exercise is to approximate the solution to this boundary value problem, by discretizing the problem and then solving the resulting system of nonlinear equations. "
   ]
  },
  {
   "cell_type": "markdown",
   "id": "cb770a03-ba0f-4de2-b326-c429868fa1ac",
   "metadata": {},
   "source": [
    "Problem (1) will be discretized using finite differences. Suppose we use $n+2$ discretization points for $x$, denoted $x_k = kh$ for $k \\in \\{0, \\ldots, n+1\\}$ and $h = 1/(n+1)$. The approximate solution is denoted $y_k = y(x_k)$. \n",
    "\n",
    "We will use a _second-order central finite difference_ approximation for the second derivative: \n",
    "\n",
    "$$ \\tag{2} y''(x_k) \\approx \\frac{y_{k-1} - 2 y_k + y_{k+1}}{h^2}.$$\n",
    "\n",
    "The term $\\exp(y(x_k))$ can simply be approximated by $\\exp(y_k)$. Thus for $x=x_k$, equation (1) becomes\n",
    "\n",
    "$$ \\tag{3} \\frac{y_{k-1} - 2 y_k + y_{k+1}}{h^2} + \\exp y_k = 0, \\quad k = 1, \\ldots, n.$$\n",
    "\n",
    "The boundary conditions (the conditions $y(0) = y(1) = 1$), lead to the requirement that $y_0 = y_{n+1} = 0$. To find the remaining values $y_k$, $k=1, \\ldots, n$, equation (3) will be used for $k = 1, \\ldots, n$. In this way, one obtains $n$ equations for $n$ unknowns, to which, in principle, a rootfinding method can be applied.\n",
    "\n",
    "We will write $\\vec y = \\begin{bmatrix} y_1 \\\\ \\vdots \\\\ y_n \\end{bmatrix}$ for the vector of values to be determined. \n"
   ]
  },
  {
   "cell_type": "markdown",
   "id": "7c341388-63b4-4b7a-aeaf-9dcf4173cefc",
   "metadata": {},
   "source": [
    "## (a)  (2 pts)\n",
    "As a first step, finish the function `SecondDerMatrix` that returns a matrix $\\bf{M}$ that maps the vector $\\vec y$ to the vector of the approximate values $y''(x_k)$, $k=1, \\ldots, n$ given in (2). To get full points for this part of the exercise you must create output in the form of a sparse matrix."
   ]
  },
  {
   "cell_type": "code",
   "execution_count": 464,
   "id": "dcbf2b55-d129-4cbe-a517-416c2682d8d5",
   "metadata": {},
   "outputs": [
    {
     "data": {
      "text/plain": [
       "array([[-162.,   81.,    0.,    0.,    0.,    0.,    0.,    0.],\n",
       "       [  81., -162.,   81.,    0.,    0.,    0.,    0.,    0.],\n",
       "       [   0.,   81., -162.,   81.,    0.,    0.,    0.,    0.],\n",
       "       [   0.,    0.,   81., -162.,   81.,    0.,    0.,    0.],\n",
       "       [   0.,    0.,    0.,   81., -162.,   81.,    0.,    0.],\n",
       "       [   0.,    0.,    0.,    0.,   81., -162.,   81.,    0.],\n",
       "       [   0.,    0.,    0.,    0.,    0.,   81., -162.,   81.],\n",
       "       [   0.,    0.,    0.,    0.,    0.,    0.,   81., -162.]])"
      ]
     },
     "execution_count": 464,
     "metadata": {},
     "output_type": "execute_result"
    }
   ],
   "source": [
    "from scipy.sparse import csr_array\n",
    "\n",
    "def SecondDerMatrix(n):\n",
    "    \"\"\"\n",
    "    Generate a sparse matrix representing the second derivative operator for a discrete domain.\n",
    "\n",
    "    Parameters:\n",
    "    - n (int): Number of discrete points in the domain.\n",
    "\n",
    "    Returns:\n",
    "    - scipy.sparse.csr_matrix: Sparse matrix representing the second derivative operator.\n",
    "\n",
    "    \"\"\"\n",
    "\n",
    "    h = 1.0 / (n + 1)\n",
    "    \n",
    "    main_diag = -2 * np.ones(n)\n",
    "    sub_diag = np.ones(n - 1)\n",
    "    sup_diag = np.ones(n - 1)\n",
    "\n",
    "    M = csr_array(np.diag(main_diag) + np.diag(sub_diag, k = -1) + np.diag(sup_diag, k = 1))\n",
    "\n",
    "    M *= 1 / h**2\n",
    "\n",
    "    return M\n",
    "\n",
    "SecondDerMatrix(8).toarray()"
   ]
  },
  {
   "cell_type": "markdown",
   "id": "402404a4-8673-4529-b452-94c05e994cf2",
   "metadata": {},
   "source": [
    "## (b)  (1 pt)\n",
    "Second-order central finite differences are exact for quadratic functions. In order to test your implementation, choose $n=10$ and apply the second derivative matrix from part (a) to a quadratic function $y(x)$ with $y(0) = y(1) = 0$ for which you know the second derivative $y''(x)$."
   ]
  },
  {
   "cell_type": "code",
   "execution_count": 465,
   "id": "dea2b67c-4c28-42f3-9555-fdc2795741ab",
   "metadata": {},
   "outputs": [
    {
     "name": "stdout",
     "output_type": "stream",
     "text": [
      "Analytical solution: 2\n",
      "Numerical approximation: [2. 2. 2. 2. 2. 2. 2. 2. 2. 2.]\n"
     ]
    }
   ],
   "source": [
    "n = 10\n",
    "M = SecondDerMatrix(n)\n",
    "\n",
    "x = np.linspace(0, 1, n + 2)\n",
    "y = x ** 2 - x\n",
    "\n",
    "second_derivative = M.dot(y[1:-1])\n",
    "\n",
    "actual_value = 2\n",
    "\n",
    "print(\"Analytical solution:\", actual_value)\n",
    "print(\"Numerical approximation:\", second_derivative)"
   ]
  },
  {
   "cell_type": "markdown",
   "id": "3c6b937a-a06a-4d24-ae49-d036ef88ba03",
   "metadata": {},
   "source": [
    "## (c) (2 pts)\n",
    "\n",
    "Defining $\\vec y = \\begin{bmatrix} y_1 \\\\ \\vdots \\\\ y_n \\end{bmatrix}$ and \n",
    "$E(\\vec y) = \\begin{bmatrix} \\exp(y_1) \\\\ \\vdots \\\\ \\exp(y_n) \\end{bmatrix}$, the equations (3) can be written in the form\n",
    "\n",
    "$$ F(\\vec y) := {\\bf M} \\cdot \\vec y + E(\\vec y) = \\vec 0. $$\n",
    "\n",
    "Finish the function `F` that defines $F(\\vec y) = {\\bf M} \\cdot \\vec y + E(\\vec y)$.\n",
    "Finish the function `JacobianF` that computes the Jacobian ${\\bf J}_F(\\vec y)$ of $F(\\vec y)$.\n",
    "To get full points for this part of the exercise, the Jacobian must be computed in the form of a sparse matrix."
   ]
  },
  {
   "cell_type": "code",
   "execution_count": 466,
   "id": "f693cfc3-9639-419a-b8f8-5179c3e60123",
   "metadata": {},
   "outputs": [
    {
     "name": "stdout",
     "output_type": "stream",
     "text": [
      "[  2.71828183 -64.6109439   74.71828183 -64.6109439    2.71828183]\n",
      "[[-69.28171817  36.           0.           0.           0.        ]\n",
      " [ 36.         -64.6109439   36.           0.           0.        ]\n",
      " [  0.          36.         -69.28171817  36.           0.        ]\n",
      " [  0.           0.          36.         -64.6109439   36.        ]\n",
      " [  0.           0.           0.          36.         -69.28171817]]\n"
     ]
    }
   ],
   "source": [
    "def F(y):\n",
    "    \"\"\"\n",
    "    Evaluate the nonlinear function F(y) defined as M * y + exp(y), where M is the second derivative matrix.\n",
    "\n",
    "    Parameters:\n",
    "    - y (numpy.ndarray): Input vector.\n",
    "\n",
    "    Returns:\n",
    "    - numpy.ndarray: Result of evaluating the nonlinear function.\n",
    "\n",
    "    \"\"\"\n",
    "\n",
    "    M = SecondDerMatrix(len(y))\n",
    "    return M.dot(y) + np.exp(y)\n",
    "    \n",
    "\n",
    "def JacobianF(y):\n",
    "    \"\"\"\n",
    "    Compute the Jacobian matrix of the nonlinear function F(y) at the given point y.\n",
    "\n",
    "    Parameters:\n",
    "    - y (numpy.ndarray): Input vector.\n",
    "\n",
    "    Returns:\n",
    "    - scipy.sparse.csr_matrix: Jacobian matrix of F(y).\n",
    "    \"\"\"\n",
    "\n",
    "    n = len(y)\n",
    "    h = 1 / (n + 1)\n",
    "\n",
    "    main_diag = -2 * 1 / h**2 + np.exp(y)\n",
    "    off_diag = np.ones(n - 1)  / h**2\n",
    "\n",
    "    J = csr_array(np.diag(main_diag) + np.diag(off_diag, k = -1) + np.diag(off_diag, k = 1))\n",
    "    return J\n",
    "\n",
    "y = [1, 2, 1, 2, 1]\n",
    "print(F(y))\n",
    "print(JacobianF(y).toarray())"
   ]
  },
  {
   "cell_type": "markdown",
   "id": "8da07053-496c-4e60-a278-422c113ff702",
   "metadata": {},
   "source": [
    "## (d)  (3 pts)\n",
    "1. Write down the first order Taylor expansion $T_F(\\vec y, \\vec s)$ for $F(\\vec y+\\vec s)$.\n",
    "2. In order to check your implementation of the Jacobian matrix, compute and print both $F(\\vec y+\\vec s)$ and its first order Taylor approximation $T_F(\\vec y, \\vec s)$ for a choice $\\vec y$ and $\\vec s$.\n",
    "3. Verify numerically that the error $||F(\\vec y + \\vec s) - T_F(\\vec y, \\vec s)||_2$ is $\\mathcal O(||\\vec s||_2^2)$. Hint: take vectors $\\vec s$ with $\\|\\vec s\\|_2 = \\mathcal O(h)$  for multiple values for $h$, e.g. $h = 10^{-k}$ for a range of $k$. "
   ]
  },
  {
   "cell_type": "markdown",
   "id": "48d3fd40-cff8-40b6-8e6e-5aa2a48fd4e0",
   "metadata": {},
   "source": [
    "Subquestion 1.\n",
    "\n",
    "The first order Taylor expansion for $F(\\vec y+\\vec s)$ is $F(\\vec y+\\vec s) \\approx F(\\vec y) + J_F(\\vec y) \\cdot \\vec s$. Which is, in this case,  ${\\bf M} \\cdot \\vec y + E(\\vec y) + J_F(\\vec y) \\cdot \\vec s$ Below is given an elaboration of the Matrix translation of this formula:\n",
    "\n",
    "$$ \\begin{bmatrix} \\frac{1}{h^2}(-2y_1+y_2) \\\\ \\frac{1}{h^2}(y_1-2y_2+y_3) \\\\ \\vdots \\\\ \\frac{1}{h^2}(y_{n-2}-2y_{n-1}+y_n)\\\\ \\frac{1}{h^2}(y_{n-1}-2y_n)\\end{bmatrix} + \\begin{bmatrix} e^{y_1} \\\\ e^{y_2} \\\\ \\vdots \\\\ e^{y_{n-1}}\\\\e^{y_n}\\end{bmatrix} + \\begin{bmatrix} \\frac{2}{h^2} + e^{y_1} & \\frac{1}{h^2} & 0 & \\dots & 0 \\\\ \\frac{1}{h^2} & \\frac{2}{h^2} + e^{y_2} & \\frac{1}{h^2} &\\dots & 0 \\\\ 0 & \\ddots & \\ddots & \\ddots &\\vdots \\\\ \\vdots & & \\frac{1}{h^2} &\\frac{2}{h^2} + e^{y_{n-1}} & \\frac{1}{h^2}& \\\\ 0 & \\dots & 0 & \\frac{1}{h^2} & \\frac{2}{h^2} + e^{y_n} \\end{bmatrix} \\begin{bmatrix} s_1 \\\\ s_2 \\\\ \\vdots \\\\ s_{n-1} \\\\ s_n \\end{bmatrix} \\\\$$\n",
    "\n",
    "Working this out will eventually result in: \n",
    "$${\\bf M} \\cdot \\vec y + E(\\vec y) + {\\bf M}\\cdot \\vec s + E(\\vec y)\\cdot \\vec s^T$$"
   ]
  },
  {
   "cell_type": "code",
   "execution_count": 467,
   "metadata": {},
   "outputs": [
    {
     "name": "stdout",
     "output_type": "stream",
     "text": [
      "T_F(y, s) = [  2.68500011 -64.60355484  74.72100011 -64.60355484   2.68500011]\n",
      "F(y + s) = [  2.68500147 -64.60355115  74.72100147 -64.60355115   2.68500147]\n",
      "[1.e+00 1.e-02 1.e-04 1.e-06 1.e-08 1.e-10 1.e-12 1.e-14 1.e-16 1.e-18\n",
      " 1.e-20]\n",
      "[485.50991502569156, 4.403382566259102, 0.043616858204482176, 0.0004357548769162599, 4.357135051950163e-06, 4.356304446730756e-08, 4.3330624114044883e-10, 9.661124251207325e-12, 1.0173427625490205e-12, 6.775956472493152e-12, 9.105284431647262e-13]\n"
     ]
    },
    {
     "data": {
      "image/png": "[encoded data removed]",
      "text/plain": [
       "<Figure size 640x480 with 1 Axes>"
      ]
     },
     "metadata": {},
     "output_type": "display_data"
    }
   ],
   "source": [
    "def T_F(y,s):\n",
    "    \"\"\"\n",
    "    Evaluate the directional derivative of the nonlinear system function F(y) at point y in the direction of s.\n",
    "\n",
    "    Parameters:\n",
    "    - y (numpy.ndarray): Point at which to evaluate the directional derivative.\n",
    "    - s (numpy.ndarray): Direction vector.\n",
    "\n",
    "    Returns:\n",
    "    - numpy.ndarray: Result of evaluating the directional derivative.\n",
    "    \"\"\"\n",
    "    \n",
    "    return F(y) + JacobianF(y).dot(s)\n",
    "\n",
    "y = np.array([1, 2, 1, 2, 1])\n",
    "s = np.array([0.001, 0.001, 0.001, 0.001, 0.001])\n",
    "\n",
    "print(f\"T_F(y, s) = {T_F(y, s)}\")\n",
    "print(f\"F(y + s) = {F(y + s)}\")\n",
    "\n",
    "n = 10\n",
    "y = np.arange(n)\n",
    "s = np.ones(n)\n",
    "s_norm = np.linalg.norm(s)\n",
    "\n",
    "k = np.arange(n + 1, dtype=float)\n",
    "hs = np.power(10, -k)\n",
    "\n",
    "new_s_matrix = (hs[:, np.newaxis] / s_norm) * s\n",
    "norm_s_array = np.linalg.norm(new_s_matrix, axis=1) ** 2\n",
    "\n",
    "error_list = [np.linalg.norm(F(y + new_s) - T_F(y, new_s)) for new_s in new_s_matrix]\n",
    "\n",
    "print(norm_s_array)\n",
    "print(error_list)\n",
    "\n",
    "plt.plot(hs, error_list, label = r'$|| F(\\vec y +\\vec s) - T_F(\\vec y,\\vec s)||_2$')\n",
    "plt.plot(hs, norm_s_array, label = r'$(||s||_2)^2$')\n",
    "plt.xlabel('$||s||_2$')\n",
    "plt.xscale('log')\n",
    "plt.yscale('log')\n",
    "plt.title('Error of the first order Taylor approximation compared to $||s||_2$')\n",
    "plt.legend()\n",
    "plt.show()\n"
   ]
  },
  {
   "cell_type": "markdown",
   "id": "c594be9d-8265-4aa0-aa7d-bd9f30e167aa",
   "metadata": {},
   "source": [
    "## (e) (2 pts)\n",
    "1. Finish the function `NewtonSolve` below to solve the system of equations.\n",
    "2. Take $n=40$, and experiment with your function. Try to find a choice of `y0` such that the method doesn't converge, as well as a choice of `y0` such that the method converges. In your answer, list the types of convergence behavior you found. Show a convergent example (if you found any) and a nonconvergent example (if you found any). Show the solutions you found for each example."
   ]
  },
  {
   "cell_type": "code",
   "execution_count": 468,
   "id": "c5adc7dd-783d-4849-b84c-94da20631c9f",
   "metadata": {},
   "outputs": [],
   "source": [
    "def NewtonSolve(y0, K):\n",
    "    \"\"\"\n",
    "    Apply Newton's method to solve a nonlinear system of equations.\n",
    "\n",
    "    Parameters:\n",
    "    - y0 (numpy.ndarray): Initial guess for the solution.\n",
    "    - K (int): Number of iterations to perform.\n",
    "\n",
    "    Returns:\n",
    "    - tuple: A tuple containing:\n",
    "        - y (numpy.ndarray): The estimated solution to the nonlinear system.\n",
    "        - newton_iterations (list): List of norms of the solution at each iteration.\n",
    "    \"\"\"\n",
    "\n",
    "    y = y0\n",
    "    newton_iterations = []\n",
    "    for _ in range(K):\n",
    "        sk = spsolve(JacobianF(y), -F(y))\n",
    "        y += sk\n",
    "        newton_iterations.append(np.linalg.norm(y))\n",
    "    return y, newton_iterations\n"
   ]
  },
  {
   "cell_type": "code",
   "execution_count": 469,
   "id": "9ce50cda-6dcd-4d97-a0d3-2c185ce88875",
   "metadata": {},
   "outputs": [
    {
     "name": "stderr",
     "output_type": "stream",
     "text": [
      "C:\\Users\\jaspe\\AppData\\Local\\Temp\\ipykernel_33036\\2373521970.py:31: RuntimeWarning: overflow encountered in exp\n",
      "  main_diag = -2 * 1 / h**2 + np.exp(y)\n",
      "C:\\Users\\jaspe\\AppData\\Local\\Temp\\ipykernel_33036\\2373521970.py:14: RuntimeWarning: overflow encountered in exp\n",
      "  return M.dot(y) + np.exp(y)\n",
      "C:\\Users\\jaspe\\AppData\\Local\\Packages\\PythonSoftwareFoundation.Python.3.11_qbz5n2kfra8p0\\LocalCache\\local-packages\\Python311\\site-packages\\scipy\\sparse\\linalg\\_dsolve\\linsolve.py:276: MatrixRankWarning: Matrix is exactly singular\n",
      "  warn(\"Matrix is exactly singular\", MatrixRankWarning)\n"
     ]
    },
    {
     "data": {
      "text/plain": [
       "(0.001, 1000)"
      ]
     },
     "execution_count": 469,
     "metadata": {},
     "output_type": "execute_result"
    },
    {
     "data": {
      "image/png": "[encoded data removed]",
      "text/plain": [
       "<Figure size 640x480 with 1 Axes>"
      ]
     },
     "metadata": {},
     "output_type": "display_data"
    }
   ],
   "source": [
    "n = 40\n",
    "\n",
    "y0_0 = np.zeros(n)\n",
    "y0_1 = np.ones(n)\n",
    "y0_2 = y0_1 / 2 + 1\n",
    "y0_3 = np.arange(n, dtype=np.float64)\n",
    "y0_4 = y0_3 / 2 + 1\n",
    "\n",
    "K = 1000\n",
    "\n",
    "y0, newton_iterations = NewtonSolve(y0_0, K)\n",
    "y1, newton_iterations_1 = NewtonSolve(y0_1, K)\n",
    "y2, newton_iterations_2 = NewtonSolve(y0_2, K)\n",
    "y3, newton_iterations_3 = NewtonSolve(y0_3, K)\n",
    "y4, newton_iterations_4 = NewtonSolve(y0_4, K)\n",
    "\n",
    "\n",
    "plt.plot(range(K), newton_iterations, label = 'y1')\n",
    "plt.plot(range(K), newton_iterations_1, label = 'y2')\n",
    "plt.plot(range(K), newton_iterations_2, label = 'y3')\n",
    "plt.plot(range(K), newton_iterations_3, label = 'y4')\n",
    "plt.plot(range(K), newton_iterations_4, label = 'y5')\n",
    "plt.xscale('log')\n",
    "plt.yscale('log')\n",
    "plt.legend(fontsize=9)\n",
    "plt.ylim(10**(-3), 10**3)"
   ]
  },
  {
   "cell_type": "markdown",
   "id": "441c242a-ec62-4761-b3d5-1aaf00ed3ab2",
   "metadata": {},
   "source": [
    "We investigated the following initial values:\n",
    "\n",
    "$\\mathbf{y}_{0,1}$: \n",
    "\n",
    "A vector of zeros of length $n$: \n",
    "\n",
    "$\n",
    "\\mathbf{y}_{0,1} = [0, 0, \\ldots, 0]\n",
    "$\n",
    "\n",
    "$\\mathbf{y}_{0,2}$: \n",
    "\n",
    "A vector of ones of length $n$: \n",
    "\n",
    "$\n",
    "\\mathbf{y}_{0,2} = [1, 1, \\ldots, 1]\n",
    "$\n",
    "\n",
    "$\\mathbf{y}_{0,3}$: \n",
    "\n",
    "A vector obtained by halving each element of $\\mathbf{y}_{0,2}$ and adding 1: \n",
    "\n",
    "$\n",
    "\\mathbf{y}_{0,3} = \\frac{1}{2} \\mathbf{y}_{0,2} + 1\n",
    "$\n",
    "\n",
    "$\\mathbf{y}_{0,4}$: \n",
    "\n",
    "A vector containing sequential numbers starting from 0 up to $n-1$: \n",
    "\n",
    "$\n",
    "\\mathbf{y}_{0,4} = [0, 1, 2, \\ldots, n-1]\n",
    "$\n",
    "\n",
    "$\\mathbf{y}_{0,5}$: \n",
    "\n",
    "A vector obtained by halving each element of $\\mathbf{y}_{0,4}$ and adding 1: \n",
    "\n",
    "$\n",
    "\\mathbf{y}_{0,5} = \\frac{1}{2} \\mathbf{y}_{0,4} + 1\n",
    "$\n",
    "\n",
    "As visible on the graph, $\\mathbf{y}_{0,4}$ and $\\mathbf{y}_{0,5}$ diverge, while the other sets of initial values converge."
   ]
  }
 ],
 "metadata": {
  "kernelspec": {
   "display_name": "Python 3 (ipykernel)",
   "language": "python",
   "name": "python3"
  },
  "language_info": {
   "codemirror_mode": {
    "name": "ipython",
    "version": 3
   },
   "file_extension": ".py",
   "mimetype": "text/x-python",
   "name": "python",
   "nbconvert_exporter": "python",
   "pygments_lexer": "ipython3",
   "version": "3.10.6"
  }
 },
 "nbformat": 4,
 "nbformat_minor": 5
}
