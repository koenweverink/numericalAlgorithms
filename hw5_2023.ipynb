{
 "cells": [
  {
   "cell_type": "markdown",
   "id": "c19c262e-c3b6-44b3-9f2b-ced7e9a749e0",
   "metadata": {
    "nbgrader": {
     "grade": false,
     "grade_id": "cell-06d3e5bf55c941ae",
     "locked": true,
     "schema_version": 3,
     "solution": false,
     "task": false
    },
    "tags": []
   },
   "source": [
    "# Homework set 5"
   ]
  },
  {
   "cell_type": "markdown",
   "id": "27370c86-4723-45ba-b362-842cf7a0ea10",
   "metadata": {
    "nbgrader": {
     "grade": false,
     "grade_id": "cell-736ff6bc3e0d0696",
     "locked": true,
     "schema_version": 3,
     "solution": false,
     "task": false
    }
   },
   "source": [
    "Before you turn this problem in, make sure everything runs as expected (in the menubar, select Kernel → Restart Kernel and Run All Cells...).\n",
    "\n",
    "Please **submit this Jupyter notebook through Canvas** no later than **Mon Dec. 4, 9:00**. **Submit the notebook file with your answers (as .ipynb file) and a pdf printout. The pdf version can be used by the teachers to provide feedback. A pdf version can be made using the save and export option in the Jupyter Lab file menu.**\n",
    "\n",
    "Homework is in **groups of two**, and you are expected to hand in original work. Work that is copied from another group will not be accepted."
   ]
  },
  {
   "cell_type": "markdown",
   "id": "ea03b3f8-0634-4301-b993-2e01c6ca38ee",
   "metadata": {
    "nbgrader": {
     "grade": false,
     "grade_id": "cell-b13bc5ed16bce8e0",
     "locked": true,
     "schema_version": 3,
     "solution": false,
     "task": false
    }
   },
   "source": [
    "# Exercise 0\n",
    "Write down the names + student ID of the people in your group."
   ]
  },
  {
   "cell_type": "markdown",
   "id": "1bf8a06b-e442-4c9d-97fe-1b8fdbfe4020",
   "metadata": {
    "nbgrader": {
     "grade": true,
     "grade_id": "cell-fd464f55ba436b1c",
     "locked": false,
     "points": 0,
     "schema_version": 3,
     "solution": true,
     "task": false
    }
   },
   "source": [
    "Koen Weverink (14711982) & Jasper Timmer (12854328)"
   ]
  },
  {
   "cell_type": "markdown",
   "id": "50472bda-279b-416b-9c5b-6fc3b1ff814c",
   "metadata": {
    "tags": []
   },
   "source": [
    "# Exercise 1 (6 points)\n",
    "\n",
    "A bacterial population $P$ grows according to the geometric progression\n",
    "\n",
    "$$P_t = rP_{t-1}$$\n",
    "\n",
    "Where r is the growth rate. The following population counts $P_1 ,\\ldots, P_8$ (in billions) are observed:"
   ]
  },
  {
   "cell_type": "code",
   "execution_count": 72,
   "id": "05ff320c-517a-45da-99a8-ca87efc419a7",
   "metadata": {},
   "outputs": [],
   "source": [
    "import numpy as np\n",
    "\n",
    "data = np.array( [0.19, 0.36, 0.69, 1.3, 2.5, 4.7, 8.5, 14] )"
   ]
  },
  {
   "cell_type": "markdown",
   "id": "e7bc3b80-e915-4854-a878-35d0ba645f80",
   "metadata": {},
   "source": [
    "# (a)\n",
    "Read chapter 6.6 on Nonlinear Least squares. Use the Gauss-Newton Method to fit the model function $f(t, x_1, x_2) = x_1\\!\\cdot x_2^t$ to the data. Find estimates for the initial population $P_0=x_1$ and the growth rate $r=x_2$. Implement the Gauss-Newton method yourself. You may use linear algebra functions from `scipy` and `numpy`. Plot the datapoints and the curve fitted to the data in a semilogarithmic plot.\n",
    "\n",
    "It is best if you define your function for Gauss-Newton separately from the definitions associated with the bacterial model."
   ]
  },
  {
   "cell_type": "code",
   "execution_count": 73,
   "id": "c492fe88-c321-4b8c-9bd8-236f815b1369",
   "metadata": {},
   "outputs": [],
   "source": [
    "def residual(params, n, y, fitting_function):\n",
    "    return y - fitting_function(params, n)\n",
    "\n",
    "def jacobian(params, n, x, fitting_function):\n",
    "    \"\"\"\n",
    "    Calculate Jacobian using central finite difference method\n",
    "    \"\"\" \n",
    "    h = 1e-10\n",
    "    n_params = len(params)\n",
    "    jac = np.zeros((len(x), n_params))\n",
    "\n",
    "    for i in range(n_params):\n",
    "        delta = np.zeros(n_params)\n",
    "        delta[i] = h\n",
    "        jac[:, i] = (fitting_function(params + delta, n) - fitting_function(params - delta, n)) / (2 * h)\n",
    "\n",
    "    return jac\n",
    "\n",
    "def gauss_newton(params_init, n, x, y, fitting_function, max_iterations=1000 , tol=1e-6):\n",
    "\n",
    "    for i in range(max_iterations):\n",
    "        params = params_init[:]\n",
    "        res = residual(params, n, y, fitting_function)\n",
    "        jac = jacobian(params, n, x, fitting_function)\n",
    "\n",
    "        J_T = jac.T\n",
    "        A = J_T @ jac\n",
    "        step = np.linalg.lstsq(A, J_T @ res, rcond=None)[0]\n",
    "\n",
    "        # step = np.linalg.lstsq(jac, res)[0]\n",
    "        params += step\n",
    "\n",
    "        if np.linalg.norm(step) < tol or np.linalg.norm(res) < tol:\n",
    "            break\n",
    "\n",
    "    return params"
   ]
  },
  {
   "cell_type": "code",
   "execution_count": 74,
   "id": "d574b3c1-5a64-47d4-b0d4-45cd87216829",
   "metadata": {},
   "outputs": [],
   "source": [
    "def growth(params, n):\n",
    "    p_0, r = params\n",
    "    return p_0 * (r ** np.arange(int(n)))"
   ]
  },
  {
   "cell_type": "code",
   "execution_count": 75,
   "metadata": {},
   "outputs": [
    {
     "name": "stdout",
     "output_type": "stream",
     "text": [
      "Fitted parameters:\n",
      "p_0: -7.470250566069154e-11\n",
      "r: -40.685651894368824\n"
     ]
    },
    {
     "data": {
      "image/png": "[encoded data removed]",
      "text/plain": [
       "<Figure size 640x480 with 1 Axes>"
      ]
     },
     "metadata": {},
     "output_type": "display_data"
    }
   ],
   "source": [
    "import matplotlib.pyplot as plt\n",
    "\n",
    "initial_guess = np.array([data[0], 1.0])\n",
    "n = len(data)\n",
    "\n",
    "result_params = gauss_newton(initial_guess, n, np.arange(len(data)), data, growth)\n",
    "\n",
    "p_0_fit, r_fit = result_params\n",
    "fit_curve = growth((p_0_fit, r_fit), n)\n",
    "\n",
    "print(\"Fitted parameters:\")\n",
    "print(\"p_0:\", p_0_fit)\n",
    "print(\"r:\", r_fit)\n",
    "\n",
    "plt.semilogy(np.arange(len(data)), data, 'o', label='Original Data')\n",
    "plt.semilogy(np.arange(len(data)), fit_curve, label='Fitted Curve')\n",
    "plt.legend()\n",
    "plt.show()"
   ]
  },
  {
   "cell_type": "markdown",
   "id": "b56e7014-dda8-4984-8fce-d0a5a16d046f",
   "metadata": {},
   "source": [
    "# (b)\n",
    "Let $f$ be a vector valued function $f = [ f_1, \\ldots, f_m ]^T$. In weighted least squares one aims to minimize the objective function\n",
    "$$\n",
    "  \\phi(x) = \\frac{1}{2} \\sum_{i=1}^m W_{ii} ( y_i - f_i(x)) ^2 , \\qquad\n",
    "  W_{ii} = \\frac{1}{\\sigma_i^2} , \n",
    "$$\n",
    "where $\\sigma_i$ is an estimate of the standard deviation in the data point $y_i$. This is equivalent to the standard least squares problem \n",
    "$$\n",
    "\\min_x \\frac{1}{2} \\| Y - F(x) \\|_2^2\n",
    "$$\n",
    "with $F_i(x) = \\frac{1}{\\sigma_i} f(x)$  , $Y_i = \\frac{1}{\\sigma_i} y_i$. Assume that for each data point $y_i$ in the list above, the estimate for the standard deviation is given by\n",
    "$$\n",
    "  \\sigma_i = 0.05 y_i .\n",
    "$$ \n",
    "Perform a weighted least squares fit to obtain estimates for $P_0$ and $r$. \n",
    "\n",
    "Plot the datapoints and the curve fitted to the data again in a semilogarithmic plot.\n",
    "\n",
    "Compare the residuals, i.e. the values of $y_i - f_i(x)$) obtained in (a) and (b), and discuss the differences between the results of the weighted and the unweighted optimization.\n"
   ]
  },
  {
   "cell_type": "code",
   "execution_count": 76,
   "id": "f0d3a80a-d0f0-4b9f-8004-95b4e8ba7550",
   "metadata": {},
   "outputs": [],
   "source": [
    "def residual(params, n, y, fitting_function, weights):\n",
    "    return weights * (y - fitting_function(params, n))\n",
    "\n",
    "\n",
    "def jacobian(params, n, x, fitting_function, weights):\n",
    "    h = 1e-10\n",
    "    n_params = len(params)\n",
    "    jac = np.zeros((len(x), n_params))\n",
    "\n",
    "    for i in range(n_params):\n",
    "        delta = np.zeros(n_params)\n",
    "        delta[i] = h\n",
    "        jac[:, i] = (weights * (fitting_function(params + delta, n) - fitting_function(params - delta, n))) / (2 * h)\n",
    "\n",
    "    return jac\n",
    "\n",
    "def weighted_least_squares(params_init, n, x, y, fitting_function, weights, max_iterations=1000, tol=1e-6):\n",
    "    for i in range(max_iterations):\n",
    "        params = params_init[:]\n",
    "        res = residual(params, n, y, fitting_function, weights)\n",
    "        jac = jacobian(params, n, x, fitting_function, weights)\n",
    "\n",
    "        J_T = jac.T\n",
    "        A = J_T @ jac\n",
    "        step = np.linalg.lstsq(A, J_T @ res, rcond=None)[0]\n",
    "        params += step\n",
    "\n",
    "        if np.linalg.norm(step) < tol or np.linalg.norm(res) < tol:\n",
    "            break\n",
    "\n",
    "    return params"
   ]
  },
  {
   "cell_type": "code",
   "execution_count": 77,
   "metadata": {},
   "outputs": [],
   "source": [
    "sigma_estimate = 0.05 * data\n",
    "weights = 1 / (sigma_estimate ** 2)\n",
    "\n",
    "result_params_weighted = weighted_least_squares(initial_guess, n, np.arange(len(data)), data, growth, weights)\n",
    "\n",
    "p_0_fit_weighted, r_fit_weighted = result_params_weighted\n",
    "fit_curve_weighted = growth((p_0_fit_weighted, r_fit_weighted), n)\n"
   ]
  },
  {
   "cell_type": "code",
   "execution_count": 78,
   "metadata": {},
   "outputs": [
    {
     "data": {
      "text/plain": [
       "[<matplotlib.lines.Line2D at 0x16242a50700>]"
      ]
     },
     "execution_count": 78,
     "metadata": {},
     "output_type": "execute_result"
    },
    {
     "data": {
      "image/png": "[encoded data removed]",
      "text/plain": [
       "<Figure size 640x480 with 1 Axes>"
      ]
     },
     "metadata": {},
     "output_type": "display_data"
    }
   ],
   "source": [
    "plt.semilogy(np.arange(len(data)), data, 'o', label='Original Data')\n",
    "plt.semilogy(np.arange(len(data)), fit_curve_weighted, label='Weighted Fit Curve (b)')"
   ]
  },
  {
   "cell_type": "code",
   "execution_count": 79,
   "metadata": {},
   "outputs": [
    {
     "data": {
      "image/png": "[encoded data removed]",
      "text/plain": [
       "<Figure size 640x480 with 1 Axes>"
      ]
     },
     "metadata": {},
     "output_type": "display_data"
    },
    {
     "name": "stdout",
     "output_type": "stream",
     "text": [
      "Residuals (Unweighted): [0.19       0.36       0.69000012 1.29999497 2.50020469 4.69167198\n",
      " 8.83883077 0.21444924]\n",
      "Residuals (Weighted): [0.19       0.36       0.69000011 1.2999954  2.50018707 4.69238901\n",
      " 8.80965793 1.40136518]\n"
     ]
    }
   ],
   "source": [
    "plt.semilogy(np.arange(len(data)), data, 'o', label='Original Data')\n",
    "plt.semilogy(np.arange(len(data)), fit_curve, label='Unweighted Fit Curve (a)')\n",
    "plt.semilogy(np.arange(len(data)), fit_curve_weighted, label='Weighted Fit Curve (b)')\n",
    "plt.legend()\n",
    "plt.show()\n",
    "\n",
    "# Compare residuals\n",
    "residuals_unweighted = data - fit_curve\n",
    "residuals_weighted = data - fit_curve_weighted\n",
    "\n",
    "# Print and compare residuals\n",
    "print(\"Residuals (Unweighted):\", residuals_unweighted)\n",
    "print(\"Residuals (Weighted):\", residuals_weighted)"
   ]
  },
  {
   "cell_type": "markdown",
   "id": "2f0cbd35-09de-449a-80d5-c4da70b394bc",
   "metadata": {},
   "source": [
    "# Exercise 2 (3 points)\n",
    "A triangle has been measured. The measurements, a vector $x \\in \\mathbb{R}^6$, are as follows:\n",
    "$$\\begin{array}{c|c|c|c|c|c}\n",
    "x_1 = \\alpha \n",
    "& x_2 = \\beta\n",
    "& x_3 = \\gamma\n",
    "& x_4 = a\n",
    "& x_5 = b\n",
    "& x_6 = c \\\\ \\hline\n",
    "67.5^{\\large\\circ}\n",
    "& 52^{\\large\\circ}\n",
    "& 60^{\\large\\circ}\n",
    "& 172 \\text{m}\n",
    "& 146 \\text{m}\n",
    "& 165 \\text{m}\n",
    "\\end{array} .\n",
    "$$\n",
    "Here $\\alpha, \\beta, \\gamma$ are the angles opposite the sides with length $a$, $b$, $c$, respectively.\n",
    "The measurements $x$ have errors. We would like to correct them so that the new values $\\tilde{x} = x + h$ are consistent quantities of a triangle. The have to satisfy:\n",
    "$$ \\tag{*}\n",
    "\\begin{array}{ccc}\n",
    "\\text{Sum of angles:} \n",
    "& \\;\\;\\;\\;\\; & \n",
    "\\tilde{x}_1 + \\tilde{x}_2 + \\tilde{x}_3 = 180^{\\large\\circ}\n",
    "\\\\\n",
    "\\text{Sine theorem:}\n",
    "&&\n",
    "\\tilde{x}_4 \\sin(\\tilde{x}_2) - \\tilde{x}_5 \\sin(\\tilde{x}_1) = 0\n",
    "\\\\\n",
    "&&\n",
    "\\tilde{x}_5 \\sin(\\tilde{x}_3) - \\tilde{x}_6 \\sin(\\tilde{x}_2) = 0 .\n",
    "\\end{array}$$\n"
   ]
  },
  {
   "cell_type": "markdown",
   "id": "a86c5137-9cf9-4f1e-9376-a2ca28ab2dd9",
   "metadata": {},
   "source": [
    "## (a)\n",
    "Solve the constrained least squares problem $\\min_x \\| h \\|_2^2$ subject to the constraints given by (*).\n",
    "\n",
    "Use `scipy.optimize.minimize`.\n",
    "\n",
    "Hint: Don't forget to work in radians!\n",
    "\n",
    "Check that for the new values also e.g. the cosine theorem $c^2 = a^2 + b^2 - 2 ab \\cos(\\gamma)$ holds."
   ]
  },
  {
   "cell_type": "code",
   "execution_count": 101,
   "id": "fd180378-9e14-4e45-ac0d-4dedd620303f",
   "metadata": {},
   "outputs": [
    {
     "name": "stdout",
     "output_type": "stream",
     "text": [
      "27224.89308914991 27224.893089148813\n",
      "Original angles (rad):\t [1.17809725 0.90757121 1.04719755]\n",
      "Corrected angles (rad):\t [1.16640473 0.89525946 1.07992847]\n",
      "\n",
      "\n",
      "Original lengths:\t [172.0, 146.0, 165.0]\n",
      "Corrected lengths:\t [172.00020435357638, 146.00011635665348, 164.99967602740895]\n",
      "\n",
      "\n",
      "Cosine theorem check: 1.0986695997416973e-09\n"
     ]
    }
   ],
   "source": [
    "from scipy.optimize import minimize\n",
    "\n",
    "x_degrees_and_lengths = np.array([67.5, 52, 60, 172, 146, 165])\n",
    "x_radians = np.radians(x_degrees_and_lengths[:3])\n",
    "\n",
    "def residuals(h):\n",
    "    \"\"\"\n",
    "    Compute the residuals based on corrected angles and lengths.\n",
    "\n",
    "    Parameters:\n",
    "    - h (numpy.ndarray): Optimization parameters representing corrections to angles and lengths.\n",
    "\n",
    "    Returns:\n",
    "    - numpy.ndarray: Residuals vector representing the deviation from the constraints.\n",
    "    \"\"\"\n",
    "    tilde_x = np.concatenate([x_radians + h[:3], x_degrees_and_lengths[3:] + h[3:]])\n",
    "\n",
    "    # constraints\n",
    "    sum_of_angles_constraint = tilde_x[0] + tilde_x[1] + tilde_x[2] - np.pi\n",
    "    sine_theorem1_constraint = tilde_x[3] * np.sin(tilde_x[1]) - tilde_x[4] * np.sin(tilde_x[0])\n",
    "    sine_theorem2_constraint = tilde_x[4] * np.sin(tilde_x[2]) - tilde_x[5] * np.sin(tilde_x[1])\n",
    "\n",
    "    return np.array([sum_of_angles_constraint, sine_theorem1_constraint, sine_theorem2_constraint])\n",
    "\n",
    "# constrained least squares optimization\n",
    "result = minimize(lambda h: np.linalg.norm(residuals(h))**2, x0=np.zeros(6), constraints={'type': 'eq', 'fun': residuals})\n",
    "\n",
    "tilde_x_corrected = np.concatenate([x_radians + result.x[:3], x_degrees_and_lengths[3:] + result.x[3:]])\n",
    "\n",
    "# check the cosine theorem\n",
    "left_side = tilde_x_corrected[5]**2\n",
    "right_side = tilde_x_corrected[3]**2 + tilde_x_corrected[4]**2 - 2 * tilde_x_corrected[3] * tilde_x_corrected[4] * np.cos(tilde_x_corrected[2])\n",
    "print(left_side, right_side)\n",
    "cosine_theorem_check = abs(left_side - right_side)\n",
    "\n",
    "print(\"Original angles (rad):\\t\", x_radians)\n",
    "print(\"Corrected angles (rad):\\t\", tilde_x_corrected[:3])\n",
    "print(\"\\n\")\n",
    "print(\"Original lengths:\\t\", x_degrees_and_lengths[-3:].tolist())\n",
    "print(\"Corrected lengths:\\t\", tilde_x_corrected[-3:].tolist())\n",
    "print(\"\\n\")\n",
    "print(\"Cosine theorem check:\", cosine_theorem_check)\n"
   ]
  },
  {
   "cell_type": "markdown",
   "id": "cb8f5e56-d57b-44f6-878f-d8d420d4d0a2",
   "metadata": {},
   "source": [
    "## (b)\n",
    "You will notice that the corrections will be made mainly to the angles and much less to the lengths of the sides of the triangle. This is because the measurements have not the same absolute errors. While the error in last digit of the sides is about 1, the errors in radians of the angles are about 0.01. Repeat your computation by taking in account with appropriate weighting the difference in measurement errors. Minimize not simply $\\| h \\|_2^2$ but\n",
    "$$\n",
    "  \\left\\| \\begin{bmatrix} 100 h_1 \\\\ 100 h_2 \\\\ 100 h_3 \\\\ h_4 \\\\ h_5 \\\\ h_6 \\end{bmatrix} \\right\\|_2^2.$$"
   ]
  },
  {
   "cell_type": "code",
   "execution_count": 102,
   "id": "dcc292e7-2304-4676-8d39-25f5a33246f6",
   "metadata": {},
   "outputs": [
    {
     "name": "stdout",
     "output_type": "stream",
     "text": [
      "Original Angles (degrees): \t\t\t [67.5 52.  60. ]\n",
      "Corrected Angles (degrees) with weighting: \t [66.86487559 51.23482667 61.90029773]\n",
      "\n",
      "\n",
      "Original Lengths: \t\t\t [172. 146. 165.]\n",
      "Corrected Lengths with weighting: \t [172.04467614 145.8778276  165.0378638 ]\n",
      "\n",
      "\n",
      "Cosine Theorem Check with weighting: 1.7490201571490616e-06\n"
     ]
    }
   ],
   "source": [
    "x_degrees_and_lengths = np.array([67.5, 52, 60, 172, 146, 165])\n",
    "x_radians = np.radians(x_degrees_and_lengths[:3])\n",
    "\n",
    "# added measurement errors/weights\n",
    "errors = np.array([0.01, 0.01, 0.01, 1, 1, 1])\n",
    "\n",
    "def residuals(h):\n",
    "    \"\"\"\n",
    "    Compute the residuals based on corrected angles and lengths.\n",
    "\n",
    "    Parameters:\n",
    "    - h (numpy.ndarray): Optimization parameters representing corrections to angles and lengths.\n",
    "\n",
    "    Returns:\n",
    "    - numpy.ndarray: Residuals vector representing the deviation from the constraints.\n",
    "    \"\"\"\n",
    "    tilde_x = np.concatenate([x_radians + h[:3], x_degrees_and_lengths[3:] + h[3:]])\n",
    "\n",
    "    # Constraints\n",
    "    sum_of_angles_constraint = tilde_x[0] + tilde_x[1] + tilde_x[2] - np.pi\n",
    "    sine_theorem1_constraint = tilde_x[3] * np.sin(tilde_x[1]) - tilde_x[4] * np.sin(tilde_x[0])\n",
    "    sine_theorem2_constraint = tilde_x[4] * np.sin(tilde_x[2]) - tilde_x[5] * np.sin(tilde_x[1])\n",
    "\n",
    "    return np.array([sum_of_angles_constraint, sine_theorem1_constraint, sine_theorem2_constraint])\n",
    "\n",
    "# weighted least squares optimization\n",
    "result_weighted = minimize(lambda h: np.linalg.norm(residuals(h) / errors[:3])**2, x0=np.zeros(6), constraints={'type': 'eq', 'fun': residuals})\n",
    "\n",
    "tilde_x_corrected_weighted = np.concatenate([x_radians + result_weighted.x[:3], x_degrees_and_lengths[3:] + result_weighted.x[3:]])\n",
    "\n",
    "# check the cosine theorem\n",
    "left_side_weighted = tilde_x_corrected_weighted[5]**2\n",
    "right_side_weighted = tilde_x_corrected_weighted[3]**2 + tilde_x_corrected_weighted[4]**2 - 2 * tilde_x_corrected_weighted[3] * tilde_x_corrected_weighted[4] * np.cos(tilde_x_corrected_weighted[2])\n",
    "cosine_theorem_check_weighted = abs(left_side_weighted - right_side_weighted)\n",
    "\n",
    "print(\"Original Angles (degrees): \\t\\t\\t\", x_degrees_and_lengths[:3])\n",
    "print(\"Corrected Angles (degrees) with weighting: \\t\", np.degrees(tilde_x_corrected_weighted[:3]))\n",
    "print(\"\\n\")\n",
    "print(\"Original Lengths: \\t\\t\\t\", x_degrees_and_lengths[3:])\n",
    "print(\"Corrected Lengths with weighting: \\t\", tilde_x_corrected_weighted[3:])\n",
    "print(\"\\n\")\n",
    "print(\"Cosine Theorem Check with weighting:\", cosine_theorem_check_weighted)\n"
   ]
  }
 ],
 "metadata": {
  "kernelspec": {
   "display_name": "Python 3 (ipykernel)",
   "language": "python",
   "name": "python3"
  },
  "language_info": {
   "codemirror_mode": {
    "name": "ipython",
    "version": 3
   },
   "file_extension": ".py",
   "mimetype": "text/x-python",
   "name": "python",
   "nbconvert_exporter": "python",
   "pygments_lexer": "ipython3",
   "version": "3.10.6"
  }
 },
 "nbformat": 4,
 "nbformat_minor": 5
}
