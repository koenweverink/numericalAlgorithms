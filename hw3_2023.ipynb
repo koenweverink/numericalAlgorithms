{
 "cells": [
  {
   "cell_type": "markdown",
   "id": "8adb98fb-0d56-485e-986c-8a04c70b6020",
   "metadata": {
    "nbgrader": {
     "grade": false,
     "grade_id": "cell-06d3e5bf55c941ae",
     "locked": true,
     "schema_version": 3,
     "solution": false,
     "task": false
    },
    "tags": []
   },
   "source": [
    "# Homework set 3"
   ]
  },
  {
   "cell_type": "markdown",
   "id": "f4d542f2-53a5-4571-996a-63307f888ed9",
   "metadata": {
    "nbgrader": {
     "grade": false,
     "grade_id": "cell-736ff6bc3e0d0696",
     "locked": true,
     "schema_version": 3,
     "solution": false,
     "task": false
    }
   },
   "source": [
    "Please **submit this Jupyter notebook through Canvas** no later than **Mon Nov. 20, 9:00**. **Submit the notebook file with your answers (as .ipynb file) and a pdf printout. The pdf version can be used by the teachers to provide feedback. A pdf version can be made using the save and export option in the Jupyter Lab file menu.**\n",
    "\n",
    "Homework is in **groups of two**, and you are expected to hand in original work. Work that is copied from another group will not be accepted."
   ]
  },
  {
   "cell_type": "markdown",
   "id": "5481631d-7c59-4b2f-be95-4a73568ad33c",
   "metadata": {
    "nbgrader": {
     "grade": false,
     "grade_id": "cell-b13bc5ed16bce8e0",
     "locked": true,
     "schema_version": 3,
     "solution": false,
     "task": false
    }
   },
   "source": [
    "# Exercise 0\n",
    "Write down the names + student ID of the people in your group."
   ]
  },
  {
   "cell_type": "markdown",
   "id": "423fae09-7e59-46ff-b4f6-0a4395438b2d",
   "metadata": {
    "nbgrader": {
     "grade": true,
     "grade_id": "cell-fd464f55ba436b1c",
     "locked": false,
     "points": 0,
     "schema_version": 3,
     "solution": true,
     "task": false
    }
   },
   "source": [
    "Koen Weverink (14711982) & Jasper Timmer (12854328)"
   ]
  },
  {
   "cell_type": "markdown",
   "id": "de187452-d370-4a1c-bfc9-2bad40f45833",
   "metadata": {
    "nbgrader": {
     "grade": false,
     "grade_id": "cell-b5a7855ecca9f6be",
     "locked": true,
     "schema_version": 3,
     "solution": false,
     "task": false
    }
   },
   "source": [
    "Run the following cell to import NumPy and Pyplot."
   ]
  },
  {
   "cell_type": "code",
   "execution_count": null,
   "id": "1599c119-77a5-42e3-936a-6f6515e88e35",
   "metadata": {},
   "outputs": [],
   "source": [
    "import numpy as np\n",
    "import matplotlib.pyplot as plt"
   ]
  },
  {
   "cell_type": "markdown",
   "id": "33de5356-90ed-4fea-b7e5-396c316d1d4c",
   "metadata": {},
   "source": [
    "# Exercise 1"
   ]
  },
  {
   "cell_type": "markdown",
   "id": "73f6eb1d-666c-4aa7-8969-f30895ec0c76",
   "metadata": {},
   "source": [
    "In this exercise you will study the accuracy of several methods for computing the QR decomposition. You are asked to implement these methods yourself. (However, when testing your implementation you may compare with an external implementation.)\n"
   ]
  },
  {
   "cell_type": "markdown",
   "id": "0880f0a3-e3ed-4dbd-bdc5-40ccfb753978",
   "metadata": {},
   "source": [
    "## (a) \n",
    "Implement the classical and modified Gram-Schmidt procedures for computing the QR decomposition.\n",
    "\n",
    "Include a short documentation using triple quotes: describe at least the input and the output, and whether the code modifies the input matrix.\n"
   ]
  },
  {
   "cell_type": "code",
   "execution_count": null,
   "id": "26f5a07a-b579-46bd-af9d-3db3146a782e",
   "metadata": {},
   "outputs": [],
   "source": [
    "def classical_gram_schmidt(A):\n",
    "    \"\"\"\n",
    "    Perform the Modified Gram-Schmidt orthogonalization on the columns of a matrix.\n",
    "\n",
    "    Parameters:\n",
    "    - A (numpy.ndarray): The matrix whose columns are to be orthogonalized.\n",
    "\n",
    "    Returns:\n",
    "    - numpy.ndarray: An orthogonalized matrix Q with the same shape as A, where the columns\n",
    "      of Q form an orthonormal basis for the column space of A.\n",
    "    - numpy.ndarray: An upper triangular matrix R such that A = QR.\n",
    "\n",
    "    Modified Gram-Schmidt is a numerical procedure to orthogonalize the columns of a matrix.\n",
    "    It improves numerical stability compared to the Classical Gram-Schmidt method by\n",
    "    orthogonalizing the vectors in a different order. The resulting matrix Q is orthogonal,\n",
    "    and its columns form a basis that spans the same subspace as the columns of A.\n",
    "    The upper triangular matrix R records the magnitudes of the projections during the process.\n",
    "    The original matrix A is left unmodified during the process.\n",
    "    \"\"\"\n",
    "\n",
    "    Q = np.zeros_like(A)\n",
    "    R = np.zeros((A.shape[1], A.shape[1]))\n",
    "\n",
    "    for j, w in enumerate(A):\n",
    "        v = w.copy()\n",
    "\n",
    "        for i in range(j):\n",
    "            R[i, j] = np.dot(Q[:, i], v)\n",
    "            v -= R[i, j] * Q[:, i]\n",
    "\n",
    "        R[j, j] = np.linalg.norm(v)\n",
    "        \n",
    "        Q[:, j] = v.copy()\n",
    "\n",
    "    return Q, R\n",
    "    \n",
    "\n",
    "def modified_gram_schmidt(A):\n",
    "    \"\"\"\n",
    "    Perform the Modified Gram-Schmidt orthogonalization on the columns of a matrix.\n",
    "\n",
    "    Parameters:\n",
    "    - A (numpy.ndarray): The matrix whose columns are to be orthogonalized.\n",
    "\n",
    "    Returns:\n",
    "    - numpy.ndarray: An orthogonalized matrix Q with the same shape as A, where the columns\n",
    "      of Q form an orthonormal basis for the column space of A.\n",
    "    - numpy.ndarray: An upper triangular matrix R such that A = QR.\n",
    "\n",
    "    Modified Gram-Schmidt is a numerical procedure to orthogonalize the columns of a matrix.\n",
    "    It improves numerical stability compared to the Classical Gram-Schmidt method by\n",
    "    orthogonalizing the vectors in a different order. The resulting matrix Q is orthogonal,\n",
    "    and its columns form a basis that spans the same subspace as the columns of A.\n",
    "    The upper triangular matrix R records the magnitudes of the projections during the process.\n",
    "    The original matrix A is left unmodified during the process.\n",
    "    \"\"\"\n",
    "\n",
    "    Q = np.zeros_like(A)\n",
    "    R = np.zeros((A.shape[1], A.shape[1]))\n",
    "\n",
    "    for j, w in enumerate(A):\n",
    "        v = w.copy()\n",
    "\n",
    "        for i in range(j):\n",
    "            R[i, j] = np.dot(Q[:, i], v)\n",
    "            v -= R[i, j] * Q[:, i]\n",
    "\n",
    "        R[j, j] = np.linalg.norm(v)\n",
    "        Q[:, j] = v / R[j, j]\n",
    "\n",
    "    return Q, R\n"
   ]
  },
  {
   "cell_type": "markdown",
   "id": "a337d211-e9b2-4157-9d85-a3635efb3431",
   "metadata": {},
   "source": [
    "## (b) (a+b 3.5 pts)\n",
    "Let $H$ be a Hilbert matrix of size $n$ (see Computer Problem 2.6). Study the quality of the QR decompositions obtained using the two methods of part (a), specifically the loss of orthogonality. In order to do so, plot the quantity $\\| I - Q^T Q \\|$ as a function of $n$ on a log scale. Vary $n$ from $2$ to $12$.\n",
    "\n"
   ]
  },
  {
   "cell_type": "code",
   "execution_count": null,
   "id": "cff553c1-4044-4683-9555-f8a0f741f66e",
   "metadata": {},
   "outputs": [],
   "source": [
    "def loss_of_orthogonality(A):\n",
    "    \"\"\"\n",
    "    Calculate the loss of orthogonality for a given matrix A.\n",
    "\n",
    "    Parameters:\n",
    "    - A (numpy.ndarray): The matrix for which to calculate the loss of orthogonality.\n",
    "\n",
    "    Returns:\n",
    "    - float: The loss of orthogonality, defined as the Frobenius norm of the difference\n",
    "      between the transpose of A and its product with itself, i.e., ||I - A^T @ A||_F.\n",
    "\n",
    "    The Frobenius norm is used to measure the magnitude of the matrix.\n",
    "    A smaller loss of orthogonality indicates a matrix closer to orthogonality.\n",
    "    For an orthogonal matrix, the loss of orthogonality is expected to be zero.\n",
    "    \"\"\"\n",
    "\n",
    "    return np.linalg.norm(np.eye(A.shape[1]) - A.T @ A)\n",
    "\n",
    "\n",
    "# Set the range of n values\n",
    "n_values = list(range(2, 13))\n",
    "\n",
    "loss_classical = []\n",
    "loss_modified = []\n",
    "loss_qr = []\n",
    "\n",
    "for n in n_values:\n",
    "    H = np.array([[1 / (i + j - 1) for j in range(1, n + 1)] for i in range(1, n + 1)])\n",
    "\n",
    "    Q_classical = classical_gram_schmidt(H)[0]\n",
    "    loss_classical.append(loss_of_orthogonality(Q_classical))\n",
    "\n",
    "    Q_modified = modified_gram_schmidt(H)[0]\n",
    "    loss_modified.append(loss_of_orthogonality(Q_modified))\n",
    "\n",
    "plt.plot(n_values, loss_classical, label='Classical Gram-Schmidt')\n",
    "plt.plot(n_values, loss_modified, label='Modified Gram-Schmidt')\n",
    "plt.yscale('log')\n",
    "plt.xlabel('n')\n",
    "plt.ylabel('Loss of Orthogonality')\n",
    "plt.legend()\n",
    "plt.show()"
   ]
  },
  {
   "cell_type": "markdown",
   "id": "f2d6cf46-3796-405b-ab46-bc9575a5f648",
   "metadata": {},
   "source": [
    "## (c) (1.5 pts)\n",
    "Try applying the classical procedure twice. Plot again the loss of orthogonality when computing the QR decomposition of the Hilbert matrix of size $n$ as in (b).\n"
   ]
  },
  {
   "cell_type": "code",
   "execution_count": null,
   "id": "b4574283-5b0e-4f54-a0e4-727a9246db7e",
   "metadata": {},
   "outputs": [],
   "source": [
    "n_values = list(range(2, 13))\n",
    "\n",
    "loss_classical = []\n",
    "loss_modified = []\n",
    "\n",
    "for n in n_values:\n",
    "    H = np.array([[1 / (i + j - 1) for j in range(1, n + 1)] for i in range(1, n + 1)])\n",
    "\n",
    "    Q_classical = classical_gram_schmidt(classical_gram_schmidt(H)[0])[0]\n",
    "    loss_classical.append(loss_of_orthogonality(Q_classical))\n",
    "\n",
    "    Q_modified = modified_gram_schmidt(modified_gram_schmidt(H)[0])[0]\n",
    "    loss_modified.append(loss_of_orthogonality(Q_modified))\n",
    "\n",
    "plt.plot(n_values, loss_classical, label='Classical Gram-Schmidt')\n",
    "plt.plot(n_values, loss_modified, label='Modified Gram-Schmidt')\n",
    "plt.yscale('log')\n",
    "plt.xlabel('n')\n",
    "plt.ylabel('Loss of Orthogonality')\n",
    "plt.legend()\n",
    "\n",
    "plt.show()"
   ]
  },
  {
   "cell_type": "markdown",
   "id": "d61d724c-3216-4742-9c8c-f411ad437193",
   "metadata": {},
   "source": [
    "## (d) (2 pts)\n",
    "Implement the Householder method for computing the QR decomposition. Remember to include a short documentation."
   ]
  },
  {
   "cell_type": "code",
   "execution_count": null,
   "id": "a5fa9b4f-4a69-4dcf-bee4-23e67746ed06",
   "metadata": {},
   "outputs": [],
   "source": [
    "def householder_qr(A):\n",
    "    \"\"\"\n",
    "    Compute the QR decomposition of a matrix A using the Householder method.\n",
    "\n",
    "    Parameters:\n",
    "    - A: The input matrix of shape (m, n).\n",
    "\n",
    "    Returns:\n",
    "    - Q: The orthogonal matrix of shape (m, m).\n",
    "    - R: The upper triangular matrix of shape (m, n).\n",
    "\n",
    "    Note:\n",
    "    - The input matrix A is not modified by this function.\n",
    "    \"\"\"\n",
    "    m, n = A.shape\n",
    "    Q = np.eye(m)  #I\n",
    "    R = A.copy()\n",
    "\n",
    "    for k in range(min(m, n)):\n",
    "        # Compute Householder vector\n",
    "        x = R[k:, k]\n",
    "        v = np.zeros_like(x)\n",
    "        v[0] = np.sign(x[0]) * np.linalg.norm(x)\n",
    "        v = v + x\n",
    "        v = v / np.linalg.norm(v)\n",
    "\n",
    "        # Compute Householder \n",
    "        H = np.eye(m)\n",
    "        H[k:, k:] -= 2.0 * np.outer(v, v)\n",
    "\n",
    "        # Apply Householder to R and Q\n",
    "        R = np.dot(H, R)\n",
    "        Q = np.dot(Q, H)\n",
    "\n",
    "    return Q, R"
   ]
  },
  {
   "cell_type": "code",
   "execution_count": null,
   "metadata": {},
   "outputs": [],
   "source": [
    "A = np.array([[1,2,3],[4,5,6],[7,8,9],[10,11,12]])\n",
    "Q, R = householder_qr(A)\n",
    "print(R)"
   ]
  },
  {
   "cell_type": "markdown",
   "id": "35df642d-7348-407a-9755-b8ac03045541",
   "metadata": {},
   "source": [
    "## (e) (2 pts)\n",
    "Perform the analysis of (b) for the Householder method. Discuss the differences between all the methods you have tested so far. Look online and/or in books for information about the accuracy of the different methods and include this in your explanations (with reference).\n"
   ]
  },
  {
   "cell_type": "code",
   "execution_count": null,
   "id": "eb790bfb-2f80-4630-aeb6-30ff0b604cc7",
   "metadata": {},
   "outputs": [],
   "source": [
    "n_values = list(range(2, 13))\n",
    "\n",
    "loss_householder = []\n",
    "\n",
    "for n in n_values:\n",
    "    H = np.array([[1 / (i + j - 1) for j in range(1, n + 1)] for i in range(1, n + 1)])\n",
    "\n",
    "    Q, R = householder_qr(H)\n",
    "    loss_householder.append(loss_of_orthogonality(Q))\n",
    "\n",
    "plt.plot(n_values, loss_householder, label='Loss Householder')\n",
    "plt.yscale('log')\n",
    "plt.xlabel('n')\n",
    "plt.ylabel('Loss of Orthogonality')\n",
    "plt.legend()\n",
    "\n",
    "plt.show()"
   ]
  },
  {
   "cell_type": "markdown",
   "id": "b59a127c-1f5f-4122-927c-20b0e90c5cb4",
   "metadata": {},
   "source": [
    "## Main differences\n",
    "The Classical Gram-Schmidt method orthogonalizes the columns of the matrix one by one. It starts with the first column and orthogonalizes the remaining columns with respect to it.\n",
    "The Modified Gram-Schmidt method works similarly, but instead of orthogonalizing the remaining columns with respect to the current column, it orthogonalizes all remaining columns with respect to all previous columns. This decreases the loss of orthogonality with respect to the classical method.\n",
    "\n",
    "The Householder QR method is a entirely different method alltogether. It performs so-called Householder reflections and applied them to transform the matrix to an upper triagular matrix. Householder reflections are orthogonal transformations that zero out all values below a certain point in a vector.  \n",
    "\n",
    "## Differences in accuracy\n",
    "The main way the accuracy between these methods could differ is the accumulation of rounding errors. Since the Classical Gram-Schmidt method orthogonalizes the columns one by one with respect to the first one, each new calculation will add to the rounding error that most likely appeared during the calculation of the first column. The Modified Gram-Schmidt method has a higher accuracy, because it calculates the new column based on the previous column, which will lessen the accumulated errors, but it will not remove it completely. Householder QR works by directly zeroing out entries below the main diagonal and does not rely on previous calculatios. Therefore, it also does not propagate previous errors. The only error is floating point."
   ]
  }
 ],
 "metadata": {
  "kernelspec": {
   "display_name": "Python 3 (ipykernel)",
   "language": "python",
   "name": "python3"
  },
  "language_info": {
   "codemirror_mode": {
    "name": "ipython",
    "version": 3
   },
   "file_extension": ".py",
   "mimetype": "text/x-python",
   "name": "python",
   "nbconvert_exporter": "python",
   "pygments_lexer": "ipython3",
   "version": "3.11.6"
  }
 },
 "nbformat": 4,
 "nbformat_minor": 5
}
