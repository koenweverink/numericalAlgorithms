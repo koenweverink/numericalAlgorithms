{
 "cells": [
  {
   "cell_type": "markdown",
   "id": "08ce9e6a-6db7-4d78-86e8-5a78d6fd216e",
   "metadata": {
    "nbgrader": {
     "grade": false,
     "grade_id": "cell-06d3e5bf55c941ae",
     "locked": true,
     "schema_version": 3,
     "solution": false,
     "task": false
    }
   },
   "source": [
    "# Homework set 1"
   ]
  },
  {
   "cell_type": "markdown",
   "id": "97fd7eea-eb4d-4acd-8dad-4cb3c63b276c",
   "metadata": {
    "nbgrader": {
     "grade": false,
     "grade_id": "cell-736ff6bc3e0d0696",
     "locked": true,
     "schema_version": 3,
     "solution": false,
     "task": false
    }
   },
   "source": [
    "Please **submit this Jupyter notebook through Canvas** no later than **Mon Nov. 6, 9:00**. **Submit the notebook file with your answers (as .ipynb file) and a pdf printout. The pdf version can be used by the teachers to provide feedback. A pdf version can be made using the save and export option in the Jupyter Lab file menu.**\n",
    "\n",
    "Homework is in **groups of two**, and you are expected to hand in original work. Work that is copied from another group will not be accepted."
   ]
  },
  {
   "cell_type": "markdown",
   "id": "54b23f5a-e0cb-42db-95c2-3fb36504025e",
   "metadata": {
    "nbgrader": {
     "grade": false,
     "grade_id": "cell-b13bc5ed16bce8e0",
     "locked": true,
     "schema_version": 3,
     "solution": false,
     "task": false
    }
   },
   "source": [
    "# Exercise 0\n",
    "Write down the names + student ID of the people in your group."
   ]
  },
  {
   "cell_type": "markdown",
   "id": "2d3dedbe-312f-4b5c-b17d-ac01fc503128",
   "metadata": {
    "nbgrader": {
     "grade": true,
     "grade_id": "cell-fd464f55ba436b1c",
     "locked": false,
     "points": 0,
     "schema_version": 3,
     "solution": true,
     "task": false
    }
   },
   "source": []
  },
  {
   "cell_type": "markdown",
   "id": "d9b769fb-2b6d-4020-b046-74226d9d199e",
   "metadata": {},
   "source": [
    "## Importing packages\n",
    "Execute the following statement to import the packages `numpy` and `math` and the plotting package Matplotlib."
   ]
  },
  {
   "cell_type": "code",
   "execution_count": null,
   "id": "0d443d64-24ab-49fb-bb1e-5af8ebd6847c",
   "metadata": {},
   "outputs": [],
   "source": [
    "import numpy as np\n",
    "import math\n",
    "import matplotlib.pyplot as plt"
   ]
  },
  {
   "cell_type": "markdown",
   "id": "a657be6d-726d-4895-bbd8-545cfde41210",
   "metadata": {},
   "source": [
    "The `math` package contains functions such as $\\tan$, $\\exp$ and the factorial $n \\mapsto n!$"
   ]
  },
  {
   "cell_type": "code",
   "execution_count": null,
   "id": "1127f7c7-0dec-4bcb-80e1-9e53a32ac428",
   "metadata": {},
   "outputs": [],
   "source": [
    "# example: the factorial function\n",
    "math.factorial(5)"
   ]
  },
  {
   "cell_type": "markdown",
   "id": "8af8e841-1631-431f-9659-4e5eda9aa52b",
   "metadata": {},
   "source": [
    "If you want to access `math.factorial` without typing `math.` each time you use it, use `import from`. Same for `math.exp`"
   ]
  },
  {
   "cell_type": "code",
   "execution_count": null,
   "id": "8aeb10f9-70f6-4203-bda0-445deb803532",
   "metadata": {},
   "outputs": [],
   "source": [
    "from math import factorial, exp, tan\n",
    "\n",
    "factorial(5)"
   ]
  },
  {
   "cell_type": "markdown",
   "id": "6f445797-6b73-43cf-87e0-40a80bfd1187",
   "metadata": {
    "nbgrader": {
     "grade": false,
     "grade_id": "cell-806a5c23e94c8795",
     "locked": true,
     "schema_version": 3,
     "solution": false,
     "task": false
    }
   },
   "source": [
    "## Very short introduction to Matplotlib\n",
    "\n",
    "`matplotlib` is a useful package for visualizing data using Python. Run the first cell below to plot $\\sqrt{x}, x, x^2, x^3$ for $x \\in [1, 10]$."
   ]
  },
  {
   "cell_type": "code",
   "execution_count": null,
   "id": "3363c1ba-3d8b-45d6-b48a-fba8946f9095",
   "metadata": {},
   "outputs": [],
   "source": [
    "x = np.linspace(1, 10, 10)  # 10 points evenly between 1 and 10.\n",
    "print(x)\n",
    "plt.plot(x, x**0.5, label=r\"$x^{1/2}$\")\n",
    "plt.plot(x, x**1, label=r\"$x$\")\n",
    "plt.plot(x, x**2, label=r\"$x^2$\")\n",
    "plt.plot(x, x**3, label=r\"$x^3$\")\n",
    "plt.legend()\n",
    "plt.show()"
   ]
  },
  {
   "cell_type": "markdown",
   "id": "b39fa03b-8239-41a1-a581-d7bd98836883",
   "metadata": {
    "nbgrader": {
     "grade": false,
     "grade_id": "cell-ffd60653aaa42801",
     "locked": true,
     "schema_version": 3,
     "solution": false,
     "task": false
    }
   },
   "source": [
    "When visualizing functions where $y$ has many different orders of magnitude, a logarithmic scale is useful:"
   ]
  },
  {
   "cell_type": "code",
   "execution_count": null,
   "id": "528e91e7-9906-4558-81b3-ae67541434a4",
   "metadata": {},
   "outputs": [],
   "source": [
    "x = np.linspace(1, 10, 10)\n",
    "plt.semilogy(x, x**0.5, label=r\"$x^{1/2}$\")\n",
    "plt.semilogy(x, x**1, label=r\"$x$\")\n",
    "plt.semilogy(x, x**2, label=r\"$x^2$\")\n",
    "plt.semilogy(x, x**3, label=r\"$x^3$\")\n",
    "plt.legend()\n",
    "plt.show()"
   ]
  },
  {
   "cell_type": "markdown",
   "id": "733441ee-c098-4ff1-a3f9-200020b96656",
   "metadata": {
    "nbgrader": {
     "grade": false,
     "grade_id": "cell-06341e9c8d7895d1",
     "locked": true,
     "schema_version": 3,
     "solution": false,
     "task": false
    }
   },
   "source": [
    "When also the $x$-axis contains many orders of magnitude, a log-log plot is most useful:"
   ]
  },
  {
   "cell_type": "code",
   "execution_count": null,
   "id": "68cb090f-4fd0-49c6-94a8-77b453ed1e3a",
   "metadata": {},
   "outputs": [],
   "source": [
    "x = np.logspace(1, 10, 10, base=10)  # 10 points evenly between 10^1 and 10^10.\n",
    "print(x)\n",
    "\n",
    "plt.plot(x, x**0.5, label=r\"$x^{1/2}$\")\n",
    "plt.plot(x, x**1, label=r\"$x$\")\n",
    "plt.plot(x, x**2, label=r\"$x^2$\")\n",
    "plt.plot(x, x**3, label=r\"$x^3$\")\n",
    "plt.legend()\n",
    "plt.show()\n",
    "\n",
    "plt.loglog(x, x**0.5, label=r\"$x^{1/2}$\")\n",
    "plt.loglog(x, x**1, label=r\"$x$\")\n",
    "plt.loglog(x, x**2, label=r\"$x^2$\")\n",
    "plt.loglog(x, x**3, label=r\"$x^3$\")\n",
    "plt.legend()\n",
    "plt.show()"
   ]
  },
  {
   "cell_type": "markdown",
   "id": "8ee1da6c-a412-40bc-9b3e-854e52fcbd75",
   "metadata": {},
   "source": [
    "## Python float types\n",
    "Information about the Python `float` type is in `sys.float_info`."
   ]
  },
  {
   "cell_type": "code",
   "execution_count": null,
   "id": "5614057d-ad25-41d9-b000-ed2a875bb324",
   "metadata": {},
   "outputs": [],
   "source": [
    "import sys\n",
    "\n",
    "# printing float_info displays information about the python float type\n",
    "print(sys.float_info)"
   ]
  },
  {
   "cell_type": "code",
   "execution_count": null,
   "id": "0c805610-6fa7-4bf2-8fc7-b0573f850c2b",
   "metadata": {},
   "outputs": [],
   "source": [
    "# the individual properties can be accessed as follows\n",
    "print(\"epsilon for the python float type: \", sys.float_info.epsilon)"
   ]
  },
  {
   "cell_type": "markdown",
   "id": "b4cdf2cc-435b-458a-a255-6e1ad35b0613",
   "metadata": {},
   "source": [
    "-----\n",
    "# Exercise 1\n",
    "\n",
    "## (a)\n",
    "Write a program to compute an approximate value for the derivative of a function using the finite difference formula \n",
    "$$f'(x) \\approx \\frac{f(x+h) - f(x)}{h} .$$\n",
    "Test your program using the function $\\tan(x)$ for $x=1$. Determine the error by comparing with the analytical derivative of $\\tan(x)$. Plot the magnitude of the error as a function of $h$, for $h = 10^{-k}$, $k=0,1,2, \\ldots, 16$ using an appropriate type of plot. Is there a minimum value for the magnitude of the error? How does the corresponding value for $h$ compare with the rule of thumb $h \\approx \\sqrt{\\epsilon_{\\rm mach}}$ derived in Heath example 1.3?"
   ]
  },
  {
   "cell_type": "code",
   "execution_count": null,
   "id": "65efc940-c40e-4500-8e48-5e9200119fef",
   "metadata": {},
   "outputs": [],
   "source": [
    "def function(x):\n",
    "    return tan(x)\n",
    "\n",
    "def derivative(x):\n",
    "    return 1 / (np.cos(x) ** 2)\n",
    "\n",
    "def differentiate_a(function, k, x):\n",
    "    h = 10 ** -k\n",
    "    derivative = (function(x + h) - function(x)) / h\n",
    "    return derivative\n",
    "\n",
    "x = 1\n",
    "errors = []\n",
    "ks = range(17)\n",
    "for k in ks:\n",
    "    errors.append(abs(differentiate_a(function, k, x) - derivative(x)))\n",
    "\n",
    "plt.plot(ks, errors)\n",
    "plt.xlabel(\"k\")\n",
    "plt.ylabel(\"Absolute error\")\n",
    "plt.yscale('log')\n"
   ]
  },
  {
   "cell_type": "markdown",
   "id": "6f7d7eff-ccb2-45aa-99cd-ed9cc1c7532b",
   "metadata": {},
   "source": [
    "Write your answer, using $\\LaTeX$, in this box."
   ]
  },
  {
   "cell_type": "markdown",
   "id": "2d7d5400-7a96-4b88-bd37-a12f8634ef34",
   "metadata": {},
   "source": [
    "## (b)\n",
    "Repeat the exercise using the centered difference approximation\n",
    "$$ f'(x) \\approx \\frac{f(x+h) - f(x-h)}{2h} .$$"
   ]
  },
  {
   "cell_type": "code",
   "execution_count": null,
   "id": "0e15e232-5598-436f-900c-eb0557b60e69",
   "metadata": {},
   "outputs": [],
   "source": [
    "def differentiate_b(function, k, x):\n",
    "    h = 10 ** -k\n",
    "    derivative = (function(x + h) - function(x - h)) / (2 * h)\n",
    "    return derivative\n",
    "\n",
    "x = 1\n",
    "errors = []\n",
    "ks = range(17)\n",
    "for k in ks:\n",
    "    errors.append(abs(differentiate_b(function, k, x) - derivative(x)))\n",
    "\n",
    "plt.plot(ks, errors)\n",
    "plt.xlabel(\"k\")\n",
    "plt.ylabel(\"Absolute error\")\n",
    "plt.yscale('log')"
   ]
  },
  {
   "cell_type": "markdown",
   "id": "97f4a87f-a489-4901-bb69-e5ce4a199001",
   "metadata": {},
   "source": [
    "Write your answer, using $\\LaTeX$, in this box."
   ]
  },
  {
   "cell_type": "markdown",
   "id": "d01f117b-2141-436a-9932-417703548a1c",
   "metadata": {},
   "source": [
    "-----\n",
    "# Exercise 2\n",
    "As you probably know, the exponential function $e^x$ is given by an infinite series\n",
    "$$ \\tag{*} e^x = 1 + x + \\frac{x^2}{2!} + \\frac{x^3}{3!} + \\ldots . $$\n",
    "\n",
    "## (a)\n",
    "Suppose you write a program to sum the series in the natural order, what stopping criterion should you use? Explain your answer."
   ]
  },
  {
   "cell_type": "markdown",
   "id": "8a68c73b-e435-4c83-8a2f-224781d56cbc",
   "metadata": {},
   "source": [
    "Write your answer, using $\\LaTeX$, in this box."
   ]
  },
  {
   "cell_type": "markdown",
   "id": "33c2a6d4-5ed4-42c9-9158-7da881c810ce",
   "metadata": {},
   "source": [
    "## (b)\n",
    "Write a program to sum the series in the natural order, using the stopping criterion you just described.\n",
    "\n",
    "Test your program for $$x = \\pm 1, \\pm 5, \\pm 10, \\pm 15, \\pm 20 , $$ and compare your results with the built-in function $\\exp(x)$. Explain any cases where the exponential function is not well approximated."
   ]
  },
  {
   "cell_type": "code",
   "execution_count": null,
   "id": "b8114c01-8022-42a7-9aa9-3f4125ae7c42",
   "metadata": {},
   "outputs": [],
   "source": [
    "def find_stopping_point(x):\n",
    "    for i in range(500):\n",
    "        if (x ** i) / (factorial(i)) <= sys.float_info.epsilon:\n",
    "            return i - 1\n",
    "        \n",
    "def function(x):\n",
    "    return np.exp(x)\n",
    "\n",
    "def approximate_function(x, stopping_point):\n",
    "    return sum([1 + (x ** i) / (factorial(i)) for i in range(1, stopping_point + 1)])\n",
    "\n",
    "xs = [-20, -15, -10, -5, -1, 1, 5, 10, 15, 20]\n",
    "\n",
    "for x in xs:\n",
    "    stopping_point = find_stopping_point(x)\n",
    "    approximate = approximate_function(x, stopping_point)\n",
    "    error = abs(function(x) - approximate) / function(x)\n",
    "    print(f\"Stopping point for x = {x}: i = {stopping_point}, which leads to approximately {approximate}, with a relative error of {error}\")"
   ]
  },
  {
   "cell_type": "markdown",
   "id": "897b3cfd-e9e3-4875-b898-0eb36fb3b2b9",
   "metadata": {},
   "source": [
    "Write your answer, using $\\LaTeX$, in this box."
   ]
  },
  {
   "cell_type": "markdown",
   "id": "e36defe5-fdda-4342-9bf5-7c09f61286fa",
   "metadata": {},
   "source": [
    "## (c)\n",
    "\n",
    "Can you use the series in this form to obtain accurate results for $x<0$? (*Hint*: $e^{-x} = 1/e^x$.) If yes, write a second program that implements this and test it again on $x=-1, -5, -10, -15, -20$. "
   ]
  },
  {
   "cell_type": "markdown",
   "id": "989d3442-8aa0-40dc-8fbb-5396594405f9",
   "metadata": {},
   "source": [
    "Write your answer, using $\\LaTeX$, in this box."
   ]
  },
  {
   "cell_type": "code",
   "execution_count": null,
   "id": "f7c93ee4-f0cd-45ff-8bff-cffc11772c58",
   "metadata": {},
   "outputs": [],
   "source": [
    "# your code here"
   ]
  },
  {
   "cell_type": "markdown",
   "id": "1de5ced4-02c7-472c-b5fd-371e06eac3e2",
   "metadata": {},
   "source": [
    "## (d)\n",
    "\n",
    "Can you rearrange the series of regroup the terms of the series (\\*) in any way to obtain more acccurate results for $x < 0$?"
   ]
  },
  {
   "cell_type": "markdown",
   "id": "b4af44f9-1630-4f97-8999-95828fdd7614",
   "metadata": {},
   "source": [
    "Write your answer, using $\\LaTeX$, in this box."
   ]
  },
  {
   "cell_type": "code",
   "execution_count": null,
   "id": "0045e1f2",
   "metadata": {},
   "outputs": [],
   "source": [
    "for x in xs:\n",
    "    if x < 0:\n",
    "        stopping_point = find_stopping_point(-1 * x)\n",
    "        approximate = approximate_function(-1 * x, stopping_point) ** -1\n",
    "    else:\n",
    "        stopping_point = find_stopping_point(x)\n",
    "        approximate = approximate_function(x, stopping_point)\n",
    "    error = abs(function(x) - approximate) / function(x)\n",
    "    print(f\"Stopping point for x = {x}: i = {stopping_point}, which leads to approximately {approximate}, with a relative error of {error}\")"
   ]
  }
 ],
 "metadata": {
  "kernelspec": {
   "display_name": "Python 3 (ipykernel)",
   "language": "python",
   "name": "python3"
  },
  "language_info": {
   "codemirror_mode": {
    "name": "ipython",
    "version": 3
   },
   "file_extension": ".py",
   "mimetype": "text/x-python",
   "name": "python",
   "nbconvert_exporter": "python",
   "pygments_lexer": "ipython3",
   "version": "3.11.6"
  }
 },
 "nbformat": 4,
 "nbformat_minor": 5
}
