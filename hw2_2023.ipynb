{
 "cells": [
  {
   "cell_type": "markdown",
   "id": "bca33f70-0324-4594-8998-08352cc65c9d",
   "metadata": {
    "nbgrader": {
     "grade": false,
     "grade_id": "cell-06d3e5bf55c941ae",
     "locked": true,
     "schema_version": 3,
     "solution": false,
     "task": false
    }
   },
   "source": [
    "# Homework set 2"
   ]
  },
  {
   "cell_type": "markdown",
   "id": "a085ff85-5f47-4d16-b0bb-5adf07e3e503",
   "metadata": {
    "nbgrader": {
     "grade": false,
     "grade_id": "cell-736ff6bc3e0d0696",
     "locked": true,
     "schema_version": 3,
     "solution": false,
     "task": false
    }
   },
   "source": [
    "Please **submit this Jupyter notebook through Canvas** no later than **Mon Nov. 13, 9:00**. **Submit the notebook file with your answers (as .ipynb file) and a pdf printout. The pdf version can be used by the teachers to provide feedback. A pdf version can be made using the save and export option in the Jupyter Lab file menu.**\n",
    "\n",
    "Homework is in **groups of two**, and you are expected to hand in original work. Work that is copied from another group will not be accepted."
   ]
  },
  {
   "cell_type": "markdown",
   "id": "bfc44ed9-3b17-4f38-94fe-0f4d709ed1d6",
   "metadata": {
    "nbgrader": {
     "grade": false,
     "grade_id": "cell-b13bc5ed16bce8e0",
     "locked": true,
     "schema_version": 3,
     "solution": false,
     "task": false
    }
   },
   "source": [
    "# Exercise 0\n",
    "Write down the names + student ID of the people in your group."
   ]
  },
  {
   "cell_type": "markdown",
   "id": "f3075893-8ccd-4cab-b8a0-741c30648ebe",
   "metadata": {
    "nbgrader": {
     "grade": true,
     "grade_id": "cell-fd464f55ba436b1c",
     "locked": false,
     "points": 0,
     "schema_version": 3,
     "solution": true,
     "task": false
    }
   },
   "source": [
    "Koen Weverink (14711982) & Jasper Timmer (12854328)"
   ]
  },
  {
   "cell_type": "markdown",
   "id": "71d93788-1857-48f1-bfff-8cf004cf1a5d",
   "metadata": {},
   "source": [
    "## Importing packages\n",
    "Execute the following statement to import the packages `numpy`, `math` and `scipy.sparse`. If additional packages are needed, import them yourself."
   ]
  },
  {
   "cell_type": "code",
   "execution_count": 1,
   "id": "0c56160e-301a-4888-b439-a45bc02b8171",
   "metadata": {},
   "outputs": [],
   "source": [
    "import math\n",
    "import numpy as np\n",
    "import scipy.sparse as sp\n",
    "from scipy import linalg\n",
    "from time import time\n",
    "import sys"
   ]
  },
  {
   "cell_type": "markdown",
   "id": "967cec69-1602-4c3c-9bff-871eabca2c8b",
   "metadata": {
    "tags": []
   },
   "source": [
    "# Sparse matrices"
   ]
  },
  {
   "cell_type": "markdown",
   "id": "651b9158-f983-4dd6-a478-2dd0456961ca",
   "metadata": {},
   "source": [
    "A matrix is called sparse if only a small fraction of the entries is nonzero. For such matrices, special data formats exist. `scipy.sparse` is the scipy package that implements such data formats and provides functionality such as the LU decomposition (in the subpackage `scipy.sparse.linalg`).\n",
    "\n",
    "As an example, we create the matrix \n",
    "$$\\begin{bmatrix} 1 & 0 & 2 & 0\\\\ \n",
    "0 & 3 & 0 & 0 \\\\\n",
    "0 & 0 & 4 & 5 \\\\\n",
    "0 & 0 & 0 & 6 \n",
    "\\end{bmatrix}$$ in the so called compressed sparse row (CSR) format. As you can see, the arrays `row`, `col`, `data` contain the row and column coordinate and the value of each nonzero element respectively."
   ]
  },
  {
   "cell_type": "code",
   "execution_count": 2,
   "id": "d9090c65-724c-4bfc-a19c-85cd7314ca06",
   "metadata": {},
   "outputs": [
    {
     "name": "stdout",
     "output_type": "stream",
     "text": [
      "[[1. 0. 2. 0.]\n",
      " [0. 3. 0. 0.]\n",
      " [0. 0. 4. 5.]\n",
      " [0. 0. 0. 6.]]\n"
     ]
    }
   ],
   "source": [
    "# a sparse matrix with 6 nonzero entries\n",
    "row = np.array([0, 0, 1, 2, 2, 3])\n",
    "col = np.array([0, 2, 1, 2, 3, 3])\n",
    "data = np.array([1.0, 2, 3, 4, 5, 6])\n",
    "sparseA = sp.csr_array((data, (row, col)), shape=(4, 4))\n",
    "\n",
    "# convert to a dense matrix. This allows us to print to screen in regular formatting\n",
    "denseA = sparseA.toarray()\n",
    "print(denseA)\n"
   ]
  },
  {
   "cell_type": "markdown",
   "id": "7bcb2618-8ec2-4cd2-86b3-786946719c20",
   "metadata": {},
   "source": [
    "For sparse matrices, a sparse data format is much more efficient in terms of storage than the standard array format. Because of this efficient storage, very large matrices of size $n \\times n$ with $n = 10^7$ or more can be stored in RAM for performing computations on regular computers. Often the number of nonzero elements per row is quite small, such as 10's or 100's nonzero elements per row. In a regular, dense format, such matrices would require a supercomputer or could not be stored.\n",
    "\n",
    "In the second exercise you have to use the package `scipy.sparse`, please look up the functions you need (or ask during class)."
   ]
  },
  {
   "cell_type": "markdown",
   "id": "485a0788-7ac3-41e5-afbb-2957220c6a2a",
   "metadata": {},
   "source": [
    "# Heath computer exercise 2.1"
   ]
  },
  {
   "cell_type": "markdown",
   "id": "d40e9755-32ad-42e6-bd4a-9066e36cf4f9",
   "metadata": {},
   "source": [
    "## (a)\n",
    "Show that the matrix\n",
    "$$ A = \\begin{bmatrix} \n",
    "0.1 & 0.2 & 0.3 \\\\\n",
    "0.4 & 0.5 & 0.6 \\\\\n",
    "0.7 & 0.8 & 0.9\n",
    "\\end{bmatrix}.$$\n",
    "is singular. Describe the set of solutions to the system $A x = b$ if\n",
    "$$ b = \\begin{bmatrix} 0.1 \\\\ 0.3 \\\\ 0.5 \\end{bmatrix}. $$\n",
    "(N.B. this is a pen-and-paper question.)\n"
   ]
  },
  {
   "cell_type": "markdown",
   "id": "044019bb-6f29-446c-8cf4-a65c7033cf6c",
   "metadata": {},
   "source": [
    "$A$ is singular if $\\det(A)=0$.\n",
    "\n",
    "$$\n",
    "    \\det(A) =\n",
    "    \n",
    "$$\n",
    "\n",
    "$$\n",
    "    \\begin{vmatrix}\n",
    "        0.1 & 0.2 & 0.3 \\\\\n",
    "        0.4 & 0.5 & 0.6 \\\\\n",
    "        0.7 & 0.8 & 0.9 \\\\\n",
    "    \\end{vmatrix} = \n",
    "$$\n",
    "\n",
    "$$\n",
    "\n",
    "\n",
    "    0.1 \\cdot\n",
    "    \\begin{vmatrix}\n",
    "        0.5 & 0.6 \\\\\n",
    "        0.8 & 0.9 \\\\\n",
    "    \\end{vmatrix}\n",
    "    -\n",
    "    0.4 \\cdot\n",
    "    \\begin{vmatrix}\n",
    "        0.2 & 0.3 \\\\\n",
    "        0.8 & 0.9 \\\\\n",
    "    \\end{vmatrix}\n",
    "    +\n",
    "    0.7 \\cdot\n",
    "    \\begin{vmatrix}\n",
    "        0.1 & 0.3 \\\\\n",
    "        0.5 & 0.6 \\\\\n",
    "    \\end{vmatrix} =\n",
    "$$\n",
    " \n",
    "\n",
    "$$\n",
    "\n",
    "    0.1 \\cdot (0.5 \\cdot 0.9 - 0.8 \\cdot 0.6) - 0.4 \\cdot (0.2 \\cdot 0.9 - 0.8 \\cdot 0.3) + 0.7 \\cdot (0.2 \\cdot 0.6 - 0.5 \\cdot 0.3)\n",
    "    =\n",
    "$$\n",
    "\n",
    "$$\n",
    "    \n",
    "    0.1 \\cdot (0.45-0.48) - 0.4 \\cdot (0.18-0.24) + 0.7 \\cdot (0.12-0.15)\\\n",
    "    =\n",
    "$$\n",
    "\n",
    "$$\n",
    "\n",
    "    \n",
    "    0.1 \\cdot -0.03 - 0.4 \\cdot -0.06 + 0.7 \\cdot -0.03\n",
    "    =\n",
    "\n",
    "$$\n",
    "\n",
    "$$\n",
    "\n",
    "    \n",
    "    -0.003 + 0.024 - 0.021\n",
    "    =\n",
    "$$\n",
    "\n",
    "$$\n",
    "        \n",
    "    0\n",
    "\n",
    "$$\n",
    "\n",
    "Hence, $A$ is singular, which means that $Ax=b$ does either have no solution at all, or infinitely many solutions."
   ]
  },
  {
   "cell_type": "markdown",
   "id": "14074eea-48d7-49e6-81b1-5fadeaeec111",
   "metadata": {},
   "source": [
    "## (b)\n",
    "If we were to use Gaussian elimination with partial pivoting to solve this system using exact arithmetic, at what point would the process fail?\n"
   ]
  },
  {
   "cell_type": "markdown",
   "id": "05aa07a1-da53-4f43-bad8-8be6c55e0c39",
   "metadata": {},
   "source": [
    "To see which is the case, we try to solve it as usual:\n",
    "\n",
    "\n",
    "Swapping the first row with the third row\n",
    "$$\n",
    "    \\begin{align*}\n",
    "        0.7x_1 + 0.8x_2 + 0.9x_3 &= 0.5 \\\\\n",
    "        0.4x_1 + 0.5x_2 + 0.6x_3 &= 0.3 \\\\\n",
    "        0.1x_1 + 0.2x_2 + 0.3x_3 &= 0.1 \\\\\n",
    "    \\end{align*}\n",
    "$$\n",
    "\n",
    "Normalizing first row\n",
    "\n",
    "$$\n",
    "    \\begin{align*}\n",
    "        x_1 + \\frac{8}{7}x_2 + \\frac{9}{7}x_3 &= \\frac{5}{7} \\\\\n",
    "        0.4x_1 + 0.5x_2 + 0.6x_3 &= 0.3 \\\\\n",
    "        0.1x_1 + 0.2x_2 + 0.3x_3 &= 0.1 \\\\\n",
    "    \\end{align*}\n",
    "$$\n",
    "\n",
    "Substracting the first row 0.4 times from the second row and 0.1 times from the third row:\n",
    "\n",
    "\n",
    "$$\n",
    "\\begin{align*}\n",
    "    x_1 + \\frac{8}{7}x_2 + \\frac{9}{7}x_3 &= \\frac{5}{7} \\\\\n",
    "    \\frac{3}{70}x_2 - \\frac{3}{35}x_3 &= 0.3-\\frac{2}{7} \\\\\n",
    "    \\frac{3}{35}x_2 - \\frac{6}{35}x_3 &= 0.1-\\frac{1}{14} \\\\\n",
    "\\end{align*}\n",
    "\n",
    "$$\n",
    "\n",
    "Dividing the third row by 2 will make it identical to the second row. This means there are infinitely many solutions to this problem."
   ]
  },
  {
   "cell_type": "markdown",
   "id": "85c1ae38-f504-47eb-a1d6-eec193e32878",
   "metadata": {},
   "source": [
    "## (c)\n",
    "Because some of the entries of $A$ are not exactly representable in a binary floating point system, the matrix is no longer exactly singular when entered into a computer; thus, solving the system by Gaussian elimination will not necessarily fail. Solve this system on a computer using a library routine for Gaussian elimination. Compare the computed solution with your description of the solution set in part (a). What is the estimated value for $\\text{cond}(A)$? How many digits of accuracy in the solution would this lead you to expect?"
   ]
  },
  {
   "cell_type": "code",
   "execution_count": 3,
   "id": "1d6808a3-aecd-4ebe-aa79-5ddcbff09c17",
   "metadata": {},
   "outputs": [
    {
     "name": "stdout",
     "output_type": "stream",
     "text": [
      "[[7.00000000e-01 8.00000000e-01 9.00000000e-01]\n",
      " [0.00000000e+00 8.57142857e-02 1.71428571e-01]\n",
      " [0.00000000e+00 0.00000000e+00 1.11022302e-16]]\n",
      "\n",
      "The condition number of A is 2.37588029981422e+16, which should lead to around -16.37582455649447 digits of accuracy.\n"
     ]
    }
   ],
   "source": [
    "A = np.array([[0.1, 0.2, 0.3], [0.4, 0.5, 0.6], [0.7, 0.8, 0.9]])\n",
    "\n",
    "pl, u = linalg.lu(A, permute_l=True)\n",
    "\n",
    "print(u)\n",
    "\n",
    "cond = np.linalg.cond(A)\n",
    "print(f\"\\nThe condition number of A is {cond}, which should lead to around {-np.log10(cond/sys.float_info.epsilon)} digits of accuracy.\")"
   ]
  },
  {
   "cell_type": "markdown",
   "id": "32537b21-ef0e-4d21-83ec-630d7c6ef4ac",
   "metadata": {},
   "source": [
    "Write your answer, using $\\LaTeX$, in this box."
   ]
  },
  {
   "cell_type": "markdown",
   "id": "46c99b9d-1ab5-49ae-9fa9-805bb984e4a5",
   "metadata": {},
   "source": [
    "# Heath computer exercise 2.17"
   ]
  },
  {
   "cell_type": "markdown",
   "id": "aad5ecf6-4902-4e39-af7c-20fae6a41eb5",
   "metadata": {},
   "source": [
    "Consider a horizontal cantilevered beam that is clamped at one end but free along the remainder of its length. A discrete model of the forces on the beam yields a system of linear equations $A x = b$, where the $n \\times n$ matrix $A$ has the banded form\n",
    "$$\n",
    "\\begin{bmatrix}\n",
    " 9 & -4     &  1 &  0 & \\ldots & \\ldots & 0 \\\\\n",
    "-4 &  6     & -4 &  1 & \\ddots && \\vdots \\\\\n",
    " 1 & -4     &  6 & -4 &  1 & \\ddots & \\vdots \\\\\n",
    " 0 & \\ddots & \\ddots & \\ddots & \\ddots & \\ddots & 0 \\\\\n",
    " \\vdots & \\ddots & 1 & -4 &  6 & -4 &  1 \\\\ \n",
    " \\vdots && \\ddots    &  1 & -4 &  5 & -2 \\\\\n",
    " 0 & \\ldots & \\ldots & 0 & 1 & -2 & 1 \n",
    "\\end{bmatrix}, $$\n",
    "the $n$-vector $b$ is the known load on the bar (including its own weight), and the $n$-vector $x$ represents the resulting deflection of the bar that is to be determined. We will take the bar to be uniformly loaded, with $b_i = 1/n^4$ for each component of the load vector.\n"
   ]
  },
  {
   "cell_type": "markdown",
   "id": "0c3221df-1706-4536-9d13-900af379a450",
   "metadata": {},
   "source": [
    "## (a)\n",
    "Make a python function that creates the matrix $A$ given the size $n$."
   ]
  },
  {
   "cell_type": "code",
   "execution_count": 4,
   "id": "c9753d31-5888-4de1-8ebe-39b55f413932",
   "metadata": {},
   "outputs": [
    {
     "name": "stdout",
     "output_type": "stream",
     "text": [
      "[[ 9. -4.  1.  0.  0.]\n",
      " [-4.  6. -4.  1.  0.]\n",
      " [ 1. -4.  6. -4.  1.]\n",
      " [ 0.  1. -4.  5. -2.]\n",
      " [ 0.  0.  1. -2.  1.]]\n"
     ]
    }
   ],
   "source": [
    "import numpy as np\n",
    "\n",
    "def create_beam_matrix(n):\n",
    "    # Initialize the matrix with zeros\n",
    "    A = np.zeros((n, n))\n",
    "\n",
    "    # Fill the diagonal and off-diagonal elements\n",
    "    for i in range(n):\n",
    "        A[0, 0] = 9\n",
    "        A[i, i] = 6\n",
    "        \n",
    "        if i > 0:\n",
    "            A[i, i-1] = -4\n",
    "            A[i-1, i] = -4\n",
    "        if i > 1:\n",
    "            A[i, i-2] = 1\n",
    "            A[i-2, i] = 1\n",
    "\n",
    "    A[-2, -3:] = [-4, 5, -2]\n",
    "    A[-1, -3:] = [1, -2, 1]\n",
    "    return A\n",
    "\n",
    "n = 5\n",
    "A_matrix = create_beam_matrix(n)\n",
    "print(A_matrix)\n"
   ]
  },
  {
   "cell_type": "markdown",
   "id": "3a7511aa-c209-4803-96a4-6743b5f52626",
   "metadata": {},
   "source": [
    "## (b)\n",
    "\n",
    "Solve this linear system using both a standard library routine for dense linear systems and a library routine designed for sparse linear systems. Take $n=100$ and $n=1000$. How do the two routines compare in the time required to compute the solution? And in the memory occupied by the LU decomposition? (Hint: as part of this assignment, look for the number of nonzero elements in the matrices $L$ and $U$ of the sparse LU decomposition.)"
   ]
  },
  {
   "cell_type": "code",
   "execution_count": 5,
   "id": "7e2da1b5-74b5-4490-b590-9604040c8aba",
   "metadata": {},
   "outputs": [
    {
     "name": "stdout",
     "output_type": "stream",
     "text": [
      "n=100 Sparse solve took 0.0014455318450927734 seconds\n",
      "n=100 Dense solve took 0.06054091453552246 seconds\n",
      "n=100 Sparse memory occupation of LU decomp. Upper: 48 Lower: 48\n",
      "n=100 Dense memory occupation of LU decomp. Upper: 80128 Lower: 80128\n",
      "\n",
      "n=1000 Sparse solve took 0.017307281494140625 seconds\n"
     ]
    },
    {
     "name": "stderr",
     "output_type": "stream",
     "text": [
      "c:\\Users\\koenw\\AppData\\Local\\Programs\\Python\\Python310\\lib\\site-packages\\scipy\\sparse\\linalg\\_dsolve\\linsolve.py:394: SparseEfficiencyWarning: splu converted its input to CSC format\n",
      "  warn('splu converted its input to CSC format', SparseEfficiencyWarning)\n"
     ]
    },
    {
     "name": "stdout",
     "output_type": "stream",
     "text": [
      "n=1000 Dense solve took 0.5512804985046387 seconds\n",
      "n=1000 Sparse memory occupation of LU decomp. Upper: 48 Lower: 48\n",
      "n=1000 Dense memory occupation of LU decomp. Upper: 8000128 Lower: 8000128\n",
      "\n"
     ]
    }
   ],
   "source": [
    "for n in [100, 1000]:\n",
    "    # Get Parameters\n",
    "    b = []\n",
    "    for n_i in range(n):\n",
    "        b_vals = 1/((n_i + 1)**4)\n",
    "        b.append(b_vals)\n",
    "\n",
    "    # Create the beam matrix with nxn rows and columns\n",
    "    A = create_beam_matrix(n)\n",
    "\n",
    "    start = time()\n",
    "    # Get the sparse A\n",
    "    sparseA = sp.csr_array(A)\n",
    "    sparse_solve = sp.linalg.spsolve(sparseA, b)\n",
    "    end = time() - start\n",
    "    print(\"n={} Sparse solve took {} seconds\".format(n, end))\n",
    "\n",
    "    # convert to a dense matrix\n",
    "    denseA = sparseA.toarray()\n",
    "    start = time()\n",
    "    dense_solve = linalg.solve(denseA, b) \n",
    "    end = time() - start\n",
    "    print(\"n={} Dense solve took {} seconds\".format(n, end))\n",
    "\n",
    "    lu = sp.linalg.splu(sparseA)\n",
    "    memory_occupied_u = sys.getsizeof(lu.U)\n",
    "    memory_occupied_l = sys.getsizeof(lu.L)\n",
    "    print(\"n={} Sparse memory occupation of LU decomp. Upper: {} Lower: {}\".format(n, memory_occupied_u, memory_occupied_l))\n",
    "\n",
    "    _, l, u = linalg.lu(denseA)\n",
    "    memory_occupied_u = sys.getsizeof(u)\n",
    "    memory_occupied_l = sys.getsizeof(l)\n",
    "    print(\"n={} Dense memory occupation of LU decomp. Upper: {} Lower: {}\\n\".format(n, memory_occupied_u, memory_occupied_l))\n",
    "\n"
   ]
  },
  {
   "cell_type": "markdown",
   "id": "9decc62c-feb5-4afb-bfba-0b8a19af5be3",
   "metadata": {},
   "source": [
    "As can be seen, the solving of the sparse matrix is significantly faster than the solving of the dense matrix. This is true for both the 100x100 matrix and the 1000x1000 matrix. Furthermore, the memory occupation for the LU decomposition is significantly lower for the sparse matrix. Moreover, the memory occupation for the sparse matrix does, in this case, not change whether its a 100x100 matrix or 1000x1000, whereas there is a very big change in memory occupation in the dense matrix.   "
   ]
  },
  {
   "cell_type": "markdown",
   "id": "8ebb2590-2f08-4362-aef6-f334eedbf306",
   "metadata": {},
   "source": [
    "## (c)\n",
    "For $n=100$, what is the condition number? What accuracy do you expect based on the condition number?"
   ]
  },
  {
   "cell_type": "code",
   "execution_count": 6,
   "id": "d71e4897-2b95-44de-88a0-029c89a24609",
   "metadata": {},
   "outputs": [
    {
     "data": {
      "text/plain": [
       "130661079.61972737"
      ]
     },
     "execution_count": 6,
     "metadata": {},
     "output_type": "execute_result"
    }
   ],
   "source": [
    "n = 100\n",
    "A = create_beam_matrix(n)\n",
    "np.linalg.cond(A)"
   ]
  },
  {
   "cell_type": "markdown",
   "id": "6f316041-7f14-48dd-a458-3a01fe87daa3",
   "metadata": {},
   "source": [
    "We expect a very low accuracy based on our calculated condition number. If the condition number is very large, as it is in our case, it implies that a small change in the input data can lead a large change in the solution. This means that the problem is 'ill-conditioned', and the accuracy of the solution is bad."
   ]
  },
  {
   "cell_type": "markdown",
   "id": "c2a94aca-a8cc-407c-9212-3b09e9bd850e",
   "metadata": {},
   "source": [
    "## (d)\n",
    "How well do the answers of (b) agree with each other (make an appropriate quantitative comparison)?\n",
    "\n",
    "Should we be worried about the fact that the two answers are different?"
   ]
  },
  {
   "cell_type": "code",
   "execution_count": 7,
   "id": "f3087de8-ee2b-45f1-a26c-06c747842835",
   "metadata": {},
   "outputs": [
    {
     "name": "stdout",
     "output_type": "stream",
     "text": [
      "0.9999999999999857\n"
     ]
    }
   ],
   "source": [
    "# Compute cosine similarity between vectors a and b\n",
    "def compute_cosine_sim(a, b):\n",
    "    return np.dot(a, b)/(np.linalg.norm(a) * np.linalg.norm(b))\n",
    "\n",
    "similarity = compute_cosine_sim(dense_solve, sparse_solve)\n",
    "print(similarity)"
   ]
  },
  {
   "cell_type": "markdown",
   "id": "02317207-3944-4be0-a8e6-29d81d007b00",
   "metadata": {},
   "source": [
    "A cosine similarity of 0.9999999999999857 is extremely close to 1, which indicates a very high similarity between the two arrays being compared. Therefore, we should not be worried about the fact that the two anwers are different. Moreover, seeing that calculations using sparse matrices is both faster and requires less computer memory, it will likely be better to us sparce metrices if there are many 0-values."
   ]
  }
 ],
 "metadata": {
  "kernelspec": {
   "display_name": "Python 3 (ipykernel)",
   "language": "python",
   "name": "python3"
  },
  "language_info": {
   "codemirror_mode": {
    "name": "ipython",
    "version": 3
   },
   "file_extension": ".py",
   "mimetype": "text/x-python",
   "name": "python",
   "nbconvert_exporter": "python",
   "pygments_lexer": "ipython3",
   "version": "3.10.6"
  }
 },
 "nbformat": 4,
 "nbformat_minor": 5
}
