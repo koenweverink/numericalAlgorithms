{
 "cells": [
  {
   "cell_type": "markdown",
   "id": "eb459a25-a4dd-415c-ba1f-ad86a4367214",
   "metadata": {
    "nbgrader": {
     "grade": false,
     "grade_id": "cell-06d3e5bf55c941ae",
     "locked": true,
     "schema_version": 3,
     "solution": false,
     "task": false
    },
    "tags": []
   },
   "source": [
    "# Homework set 6"
   ]
  },
  {
   "cell_type": "markdown",
   "id": "abe8d273-e303-413d-9abc-3fc0ccfa3595",
   "metadata": {
    "nbgrader": {
     "grade": false,
     "grade_id": "cell-736ff6bc3e0d0696",
     "locked": true,
     "schema_version": 3,
     "solution": false,
     "task": false
    }
   },
   "source": [
    "Before you turn this problem in, make sure everything runs as expected (in the menubar, select Kernel → Restart Kernel and Run All Cells...).\n",
    "\n",
    "Please **submit this Jupyter notebook through Canvas** no later than **Mon Dec. 11, 9:00**. **Submit the notebook file with your answers (as .ipynb file) and a pdf printout. The pdf version can be used by the teachers to provide feedback. A pdf version can be made using the save and export option in the Jupyter Lab file menu.**\n",
    "\n",
    "Homework is in **groups of two**, and you are expected to hand in original work. Work that is copied from another group will not be accepted."
   ]
  },
  {
   "cell_type": "markdown",
   "id": "923083fc-e388-4eb6-8b57-3f256593d94e",
   "metadata": {
    "nbgrader": {
     "grade": false,
     "grade_id": "cell-b13bc5ed16bce8e0",
     "locked": true,
     "schema_version": 3,
     "solution": false,
     "task": false
    }
   },
   "source": [
    "# Exercise 0\n",
    "Write down the names + student ID of the people in your group."
   ]
  },
  {
   "cell_type": "markdown",
   "id": "4785f9c4-829c-4226-b999-948ebf5864a9",
   "metadata": {
    "nbgrader": {
     "grade": true,
     "grade_id": "cell-fd464f55ba436b1c",
     "locked": false,
     "points": 0,
     "schema_version": 3,
     "solution": true,
     "task": false
    }
   },
   "source": [
    "YOUR ANSWER HERE"
   ]
  },
  {
   "cell_type": "markdown",
   "id": "cf801bfc-3576-4853-8c5f-3f1f5d2a88c4",
   "metadata": {},
   "source": [
    "# About imports\n",
    "Please import the needed packages by yourself."
   ]
  },
  {
   "cell_type": "markdown",
   "id": "ea5293e8-b5f4-42fa-a94d-b764aec592da",
   "metadata": {},
   "source": [
    "# Exercise 1\n",
    "N.B.1 tentative points for each part are: 2+1.5+2+2+1.5 (and one point for free gives 10).\n",
    "\n",
    "N.B.2 you are to implement the methods yourself.\n",
    "\n",
    "Given a function $f$, let $T(f,a,b,m)$ denote the composite trapezoid rule with $m$ subintervals over the interval $[a,b]$. \n",
    "## (a)\n",
    "Approximate the integral of $x^{-3}$ over $[a,b] = [ \\frac{1}{10}, 100 ]$ by the composite trapezoid rule $T(f,a,b,m)$ for $m = 2^k$. Find the smallest $k$ such that the exact error is less than $\\epsilon = 10^{-3}$. Explain the slow convergence."
   ]
  },
  {
   "cell_type": "code",
   "execution_count": 1,
   "id": "56024d22-5826-469f-b9a0-2b83b8eeed17",
   "metadata": {},
   "outputs": [
    {
     "data": {
      "image/png": "[encoded data removed]",
      "text/plain": [
       "<Figure size 640x480 with 1 Axes>"
      ]
     },
     "metadata": {},
     "output_type": "display_data"
    },
    {
     "name": "stdout",
     "output_type": "stream",
     "text": [
      "The smallest k for which the error is smaller than epsilon of 0.001 is 18\n"
     ]
    }
   ],
   "source": [
    "import numpy as np\n",
    "import matplotlib.pyplot as plt\n",
    "\n",
    "\n",
    "def f(x):\n",
    "    return x ** (-3)\n",
    "\n",
    "\n",
    "def F(x):\n",
    "    return -1 / 2 * x ** (-2)\n",
    "\n",
    "\n",
    "def T(f, a, b, m):\n",
    "    x = np.linspace(a, b, m)\n",
    "    j = np.arange(1, len(x))\n",
    "    return 0.5 * np.sum((x[j] - x[j - 1]) * (f(x[j - 1]) + f(x[j])))\n",
    "\n",
    "\n",
    "def investigate_convergence(f, F, a, b, k, epsilon=1e-3):\n",
    "    errors = []\n",
    "    error = 1\n",
    "    i = 0\n",
    "    analytical = F(b) - F(a)\n",
    "\n",
    "    while error > epsilon and i < k:\n",
    "        m = int(2 ** (i + 1))\n",
    "        approximate = T(f, a, b, m)\n",
    "        error = np.abs(approximate - analytical)\n",
    "        errors.append(error)\n",
    "        i += 1\n",
    "    \n",
    "    ks = np.arange(i) + 1\n",
    "    plt.plot(ks, errors, label='Convergence')\n",
    "    plt.plot(ks, [epsilon for i in ks], label='Desired accuracy')\n",
    "    plt.yscale('log')\n",
    "    plt.xlabel('k')\n",
    "    plt.ylabel('Absolute error')\n",
    "    plt.legend()\n",
    "    plt.show()\n",
    "    \n",
    "    if i <= k:\n",
    "        print(f\"The smallest k for which the error is smaller than epsilon of {epsilon} is {i}\")\n",
    "    else:\n",
    "        print(f\"For a maximum k of {k}, the desired accuracy is not reached.\")\n",
    "\n",
    "a = 1/10\n",
    "b = 100\n",
    "k = 25\n",
    "investigate_convergence(f, F, a, b, k)"
   ]
  },
  {
   "cell_type": "markdown",
   "id": "fbf03a46",
   "metadata": {},
   "source": [
    "# Homework set 6"
   ]
  },
  {
   "cell_type": "markdown",
   "id": "df0a8790",
   "metadata": {},
   "source": [
    "Before you turn this problem in, make sure everything runs as expected (in the menubar, select Kernel → Restart Kernel and Run All Cells...).\n",
    "\n",
    "Please **submit this Jupyter notebook through Canvas** no later than **Mon Dec. 11, 9:00**. **Submit the notebook file with your answers (as .ipynb file) and a pdf printout. The pdf version can be used by the teachers to provide feedback. A pdf version can be made using the save and export option in the Jupyter Lab file menu.**\n",
    "\n",
    "Homework is in **groups of two**, and you are expected to hand in original work. Work that is copied from another group will not be accepted."
   ]
  },
  {
   "cell_type": "markdown",
   "id": "0117021a",
   "metadata": {},
   "source": [
    "# Exercise 0\n",
    "Write down the names + student ID of the people in your group."
   ]
  },
  {
   "cell_type": "markdown",
   "id": "9c305ad6",
   "metadata": {},
   "source": [
    "Koen Weverink (14711982) & Jasper Timmer (12854328)"
   ]
  },
  {
   "cell_type": "markdown",
   "id": "7a4213e3",
   "metadata": {},
   "source": [
    "# About imports\n",
    "Please import the needed packages by yourself."
   ]
  },
  {
   "cell_type": "markdown",
   "id": "0d708d8f",
   "metadata": {},
   "source": [
    "# Exercise 1\n",
    "N.B.1 tentative points for each part are: 2+1.5+2+2+1.5 (and one point for free gives 10).\n",
    "\n",
    "N.B.2 you are to implement the methods yourself.\n",
    "\n",
    "Given a function $f$, let $T(f,a,b,m)$ denote the composite trapezoid rule with $m$ subintervals over the interval $[a,b]$. \n",
    "## (a)\n",
    "Approximate the integral of $x^{-3}$ over $[a,b] = [ \\frac{1}{10}, 100 ]$ by the composite trapezoid rule $T(f,a,b,m)$ for $m = 2^k$. Find the smallest $k$ such that the exact error is less than $\\epsilon = 10^{-3}$. Explain the slow convergence."
   ]
  },
  {
   "cell_type": "code",
   "execution_count": 2,
   "id": "fae682bb",
   "metadata": {},
   "outputs": [
    {
     "data": {
      "image/png": "[encoded data removed]",
      "text/plain": [
       "<Figure size 640x480 with 1 Axes>"
      ]
     },
     "metadata": {},
     "output_type": "display_data"
    },
    {
     "name": "stdout",
     "output_type": "stream",
     "text": [
      "The smallest k for which the error is smaller than epsilon of 0.001 is 18\n"
     ]
    }
   ],
   "source": [
    "import numpy as np\n",
    "import matplotlib.pyplot as plt\n",
    "\n",
    "\n",
    "def f(x):\n",
    "    return x ** (-3)\n",
    "\n",
    "\n",
    "def F(x):\n",
    "    return -1 / 2 * x ** (-2)\n",
    "\n",
    "\n",
    "def T(f, a, b, m):\n",
    "    x = np.linspace(a, b, m)\n",
    "    j = np.arange(1, len(x))\n",
    "    return 0.5 * np.sum((x[j] - x[j - 1]) * (f(x[j - 1]) + f(x[j])))\n",
    "\n",
    "\n",
    "def investigate_convergence(f, F, a, b, k, epsilon=1e-3):\n",
    "    errors = []\n",
    "    error = 1\n",
    "    i = 0\n",
    "    analytical = F(b) - F(a)\n",
    "\n",
    "    while error > epsilon and i < k:\n",
    "        m = int(2 ** (i + 1))\n",
    "        approximate = T(f, a, b, m)\n",
    "        error = np.abs(approximate - analytical)\n",
    "        errors.append(error)\n",
    "        i += 1\n",
    "    \n",
    "    ks = np.arange(i) + 1\n",
    "    plt.plot(ks, errors, label='Convergence')\n",
    "    plt.plot(ks, [epsilon for i in ks], label='Desired accuracy')\n",
    "    plt.yscale('log')\n",
    "    plt.xlabel('k')\n",
    "    plt.ylabel('Absolute error')\n",
    "    plt.legend()\n",
    "    plt.show()\n",
    "    \n",
    "    if i <= k:\n",
    "        print(f\"The smallest k for which the error is smaller than epsilon of {epsilon} is {i}\")\n",
    "    else:\n",
    "        print(f\"For a maximum k of {k}, the desired accuracy is not reached.\")\n",
    "        return k\n",
    "\n",
    "a = 1/10\n",
    "b = 100\n",
    "k = 25\n",
    "investigate_convergence(f, F, a, b, k)"
   ]
  },
  {
   "cell_type": "markdown",
   "id": "56a20489",
   "metadata": {},
   "source": [
    "The inspected function has a singularity at x=0. While this lies outside of the inspected region, this still influences the numerical integration process. The value closest to this singularity is 0.1, which has a corresponding y-value of 1000. This results in the algorithm converging slowly: as the size of each step in the trapezoid method needs to be sufficiently small in order for the first term to be accurate."
   ]
  },
  {
   "cell_type": "markdown",
   "id": "bd56ad9e",
   "metadata": {},
   "source": [
    "## (b)\n",
    "\n",
    "To improve the convergence rate of the above problem, we may use an adaptive strategy, as discussed in the book and the lecture. Consider the following formulas for approximate integration\n",
    "$$\\begin{aligned}\n",
    "I_1(f,a,b) = {}& T(f,a,b,1) \\\\\n",
    "I_2(f,a,b) = {}& T(f,a,b,2) .\n",
    "\\end{aligned}$$\n",
    "Show, based on the error estimates for the trapezoid rule using the Taylor series (book example 8.2) that the error in $I_2$ can be estimated by a formula of the form \n",
    "$$E_2 = C (I_1 - I_2)$$\n",
    "and determine the constant $C$ (if you can't find $C$, you may take $C = 0.5$)."
   ]
  },
  {
   "cell_type": "markdown",
   "id": "9cf98209",
   "metadata": {},
   "source": [
    "According to literature, the error estimate for the trapezoidal rule using Taylor series is given by:\n",
    "\n",
    "$$|E| \\leq \\frac{|f''(x)|(b-a)^3}{12n^2},$$\n",
    "\n",
    "where the inequality would be exactly equal for a value for x where $f''(x)$ is maximal.\n",
    "\n",
    "For $I_1$, $n=1$, so $|E_1|\\leq \\frac{f''(x)(b-a)^3}{12}$,\n",
    "\n",
    "\n",
    "and as $n=2$ for $I_2$, $|E_2| \\leq \\frac{f''(x)(b-a)^3}{48}$\n",
    "\n",
    "Combining this with:\n",
    "\n",
    "$E_2 = C (I_1 - I_2)$\n",
    "\n",
    "leads to\n",
    "\n",
    "$\\frac{M(b-a)^3}{48} = C\\left(\\frac{M(b-a)^3}{12} - \\frac{M(b-a)^3}{48}\\right)$\n",
    "\n",
    "\n",
    "We can cimplify this to:\n",
    "\n",
    "$\\frac{1}{48} = \\frac{C}{12} - \\frac{C}{48}$\n",
    "\n",
    "and simplify further to:\n",
    "\n",
    "$1 = 4C - C$\n",
    "\n",
    "So, $C=\\frac{1}{3}$\n"
   ]
  },
  {
   "cell_type": "markdown",
   "id": "f3cb9169",
   "metadata": {},
   "source": [
    "## (c)\n",
    "An adaptive strategy for computing the integral on an interval $[a,b]$ now is: Compute $I_2$ and $E_2$, and accept $I_2$ as an approximation when the estimated error $E_2$ is less or equal than a desired tolerance $\\epsilon$.  Otherwise, apply the procedure to \n",
    "$\\int_a^{\\frac{b+a}{2}} f(x) \\, dx$ and $\\int_{\\frac{b+a}{2}}^b f(x) \\, dx$ with tolerances $\\frac{\\epsilon}{2}$.\n",
    "\n",
    "Write a recursive python routine that implements the adaptive strategy.\n",
    "\n",
    "Then apply this routine to the function $x^{-3}$ with $a, b, \\epsilon$ as before. What is the exact error in the obtained approximation? "
   ]
  },
  {
   "cell_type": "code",
   "execution_count": 3,
   "id": "3a37c982",
   "metadata": {},
   "outputs": [
    {
     "name": "stdout",
     "output_type": "stream",
     "text": [
      "Approximation result: 50.00053082999457\n",
      "Exact error: 0.000580829994575538\n"
     ]
    }
   ],
   "source": [
    "def I1(f, a, b):\n",
    "    return T(f, a, b, 1)\n",
    "\n",
    "def I2(f, a, b):\n",
    "    return T(f, a, b, 2)\n",
    "\n",
    "def adaptive_integration(f, a, b, epsilon):\n",
    "    result = I2(f, a, b)\n",
    "    error = (1/3) * abs(I1(f, a, b) - I2(f, a, b))\n",
    "\n",
    "    if error <= epsilon/2:\n",
    "        return result\n",
    "    else:\n",
    "        mid = (a + b) / 2\n",
    "        left_integral = adaptive_integration(f, a, mid, epsilon)\n",
    "        right_integral = adaptive_integration(f, mid, b, epsilon)\n",
    "        return left_integral + right_integral\n",
    "\n",
    "# Set the interval [a, b] and tolerance epsilon\n",
    "a = 1/10\n",
    "b = 100\n",
    "epsilon = 1e-3\n",
    "\n",
    "# Apply the routine to the function x^{-3}\n",
    "result = adaptive_integration(f, a, b, epsilon)\n",
    "\n",
    "# Calculate the exact error\n",
    "exact_error = abs(result - (F(b) - F(a)))\n",
    "print(\"Approximation result:\", result)\n",
    "print(\"Exact error:\", exact_error)\n"
   ]
  },
  {
   "cell_type": "markdown",
   "id": "d9a7dd17",
   "metadata": {},
   "source": [
    "## (d)\n",
    "Modify the code of (c) so that the number of function evaluations is counted and that no unnecessary function evaluations are performed. Compare the number of function evaluations used in the adaptive strategy of (c) with the result of (a). \n",
    "(*Hint*: To count the number of function evaluations, you may use a global variable that is incremented by the function each time it is called.)"
   ]
  },
  {
   "cell_type": "code",
   "execution_count": 4,
   "id": "4c37294b",
   "metadata": {},
   "outputs": [
    {
     "name": "stdout",
     "output_type": "stream",
     "text": [
      "Approximation result: 50.001080231040675\n",
      "Exact error: 0.0011302310406833271\n",
      "Function evaluations: 234506\n"
     ]
    }
   ],
   "source": [
    "function_evaluations = 0\n",
    "\n",
    "def f(x):\n",
    "    global function_evaluations\n",
    "    function_evaluations += 1\n",
    "    return x ** (-3)\n",
    "\n",
    "def adaptive_integration(f, a, b, epsilon):\n",
    "    global function_evaluations\n",
    "    result = I2(f, a, b)\n",
    "    error = (1/3) * abs(I1(f, a, b) - I2(f, a, b))\n",
    "\n",
    "    if error <= epsilon:\n",
    "        return result\n",
    "    else:\n",
    "        function_evaluations -= 2  # Subtract evaluations for I1 and I2 as they have been computed\n",
    "        mid = (a + b) / 2\n",
    "        left_integral = adaptive_integration(f, a, mid, epsilon)\n",
    "        right_integral = adaptive_integration(f, mid, b, epsilon)\n",
    "        return left_integral + right_integral\n",
    "\n",
    "# Set the interval [a, b] and tolerance epsilon\n",
    "a = 1/10\n",
    "b = 100\n",
    "epsilon = 1e-3\n",
    "\n",
    "# Reset function evaluations count\n",
    "function_evaluations = 0\n",
    "\n",
    "# Apply the routine to the function x^{-3}\n",
    "result = adaptive_integration(f, a, b, epsilon)\n",
    "\n",
    "# Calculate the exact error\n",
    "exact_error = abs(result - (F(b) - F(a)))\n",
    "print(\"Approximation result:\", result)\n",
    "print(\"Exact error:\", exact_error)\n",
    "print(\"Function evaluations:\", function_evaluations)\n",
    "\n"
   ]
  },
  {
   "cell_type": "code",
   "execution_count": 5,
   "id": "55d16ffc",
   "metadata": {},
   "outputs": [
    {
     "name": "stdout",
     "output_type": "stream",
     "text": [
      "function_evaluations (c) - k (a) =  -27638\n"
     ]
    }
   ],
   "source": [
    "old_k = 2 ** 18\n",
    "print('function_evaluations (c) - k (a) = ', function_evaluations - old_k)"
   ]
  },
  {
   "cell_type": "markdown",
   "id": "ac0baaff",
   "metadata": {},
   "source": [
    "As can be seen, the modification the code of (c) without performing unnecessary function evaluations results in 27638 less iterations needed, compared to the result of (a). \n"
   ]
  },
  {
   "cell_type": "markdown",
   "id": "f18c3725",
   "metadata": {},
   "source": [
    "## (e)\n",
    "In the course of executing the recursive procedure, some subintervals are refined (split in two subintervals) while others aren't as a result of the choices made by the algorithm. It turns out that the choices made by this algorithm are not always optimal. Other algorithms, that decide in a different way which subinterval needs to be refined, may be more efficient in the sense that they require less function evaluations (while using the same formulas for the approximate integral and the approximate error associated with a subinterval).\n",
    "\n",
    "Can you explain why this is the case? Discuss briefly possible alternative approaches.\n"
   ]
  },
  {
   "cell_type": "markdown",
   "metadata": {},
   "source": [
    "\n",
    "The efficiency of an adaptive algorithm depends on how well it can adaptively refine the integration process, in order to efficiently allocate computational resources in regions where the function is more challenging or varies rapidly.\n",
    "\n",
    "Alternative approaches could be:\n",
    "\n",
    "- Adaptive Step Size Control: Instead of dividing the interval into two equal subintervals, dynamically adjust the size of the subintervals based on the local behavior of the function. (Wanner, G., & Hairer, E. (1996). Solving ordinary differential equations II (Vol. 375). New York: Springer Berlin Heidelberg.)\n",
    "\n",
    "- Non-Uniform Subinterval Selection: Introduce algorithms to non-uniformly select subintervals based on the function behavior. This could involve dynamically identifying regions where function values change rapidly and refining those regions more aggressively. (Tokat, Sezai. (1998). Non-uniform sampling interval selection for change detection.)\n",
    "\n",
    "- Global-Local Strategies: Use a global strategy to identify large-scale features of the function and a local strategy to refine subintervals in regions of rapid variation. (R. Horst, H. Tuy, Global Optimization: Deterministic Approaches, Springer, 1996.)"
   ]
  }
 ],
 "metadata": {
  "kernelspec": {
   "display_name": "Python 3 (ipykernel)",
   "language": "python",
   "name": "python3"
  },
  "language_info": {
   "codemirror_mode": {
    "name": "ipython",
    "version": 3
   },
   "file_extension": ".py",
   "mimetype": "text/x-python",
   "name": "python",
   "nbconvert_exporter": "python",
   "pygments_lexer": "ipython3",
   "version": "3.10.6"
  }
 },
 "nbformat": 4,
 "nbformat_minor": 5
}
